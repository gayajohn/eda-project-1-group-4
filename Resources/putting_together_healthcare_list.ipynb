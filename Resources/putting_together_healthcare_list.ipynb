{
 "cells": [
  {
   "cell_type": "code",
   "execution_count": 1,
   "metadata": {},
   "outputs": [],
   "source": [
    "# import modules\n",
    "\n",
    "import pandas as pd\n",
    "import glob\n",
    "\n"
   ]
  },
  {
   "cell_type": "code",
   "execution_count": 2,
   "metadata": {},
   "outputs": [
    {
     "ename": "ValueError",
     "evalue": "No objects to concatenate",
     "output_type": "error",
     "traceback": [
      "\u001b[1;31m---------------------------------------------------------------------------\u001b[0m",
      "\u001b[1;31mValueError\u001b[0m                                Traceback (most recent call last)",
      "Cell \u001b[1;32mIn[2], line 17\u001b[0m\n\u001b[0;32m     13\u001b[0m     health_stocks_csv_df\u001b[39m.\u001b[39mappend(pd\u001b[39m.\u001b[39mread_csv(csv))\n\u001b[0;32m     15\u001b[0m \u001b[39m# concatenating all dataframes\u001b[39;00m\n\u001b[1;32m---> 17\u001b[0m combined_health_stocks_csv \u001b[39m=\u001b[39m pd\u001b[39m.\u001b[39;49mconcat(health_stocks_csv_df, ignore_index\u001b[39m=\u001b[39;49m\u001b[39mTrue\u001b[39;49;00m)\n\u001b[0;32m     18\u001b[0m combined_health_stocks_csv\u001b[39m.\u001b[39mhead()\n",
      "File \u001b[1;32mc:\\Users\\vince\\anaconda3\\envs\\dev\\lib\\site-packages\\pandas\\util\\_decorators.py:331\u001b[0m, in \u001b[0;36mdeprecate_nonkeyword_arguments.<locals>.decorate.<locals>.wrapper\u001b[1;34m(*args, **kwargs)\u001b[0m\n\u001b[0;32m    325\u001b[0m \u001b[39mif\u001b[39;00m \u001b[39mlen\u001b[39m(args) \u001b[39m>\u001b[39m num_allow_args:\n\u001b[0;32m    326\u001b[0m     warnings\u001b[39m.\u001b[39mwarn(\n\u001b[0;32m    327\u001b[0m         msg\u001b[39m.\u001b[39mformat(arguments\u001b[39m=\u001b[39m_format_argument_list(allow_args)),\n\u001b[0;32m    328\u001b[0m         \u001b[39mFutureWarning\u001b[39;00m,\n\u001b[0;32m    329\u001b[0m         stacklevel\u001b[39m=\u001b[39mfind_stack_level(),\n\u001b[0;32m    330\u001b[0m     )\n\u001b[1;32m--> 331\u001b[0m \u001b[39mreturn\u001b[39;00m func(\u001b[39m*\u001b[39margs, \u001b[39m*\u001b[39m\u001b[39m*\u001b[39mkwargs)\n",
      "File \u001b[1;32mc:\\Users\\vince\\anaconda3\\envs\\dev\\lib\\site-packages\\pandas\\core\\reshape\\concat.py:368\u001b[0m, in \u001b[0;36mconcat\u001b[1;34m(objs, axis, join, ignore_index, keys, levels, names, verify_integrity, sort, copy)\u001b[0m\n\u001b[0;32m    146\u001b[0m \u001b[39m@deprecate_nonkeyword_arguments\u001b[39m(version\u001b[39m=\u001b[39m\u001b[39mNone\u001b[39;00m, allowed_args\u001b[39m=\u001b[39m[\u001b[39m\"\u001b[39m\u001b[39mobjs\u001b[39m\u001b[39m\"\u001b[39m])\n\u001b[0;32m    147\u001b[0m \u001b[39mdef\u001b[39;00m \u001b[39mconcat\u001b[39m(\n\u001b[0;32m    148\u001b[0m     objs: Iterable[NDFrame] \u001b[39m|\u001b[39m Mapping[HashableT, NDFrame],\n\u001b[1;32m   (...)\u001b[0m\n\u001b[0;32m    157\u001b[0m     copy: \u001b[39mbool\u001b[39m \u001b[39m=\u001b[39m \u001b[39mTrue\u001b[39;00m,\n\u001b[0;32m    158\u001b[0m ) \u001b[39m-\u001b[39m\u001b[39m>\u001b[39m DataFrame \u001b[39m|\u001b[39m Series:\n\u001b[0;32m    159\u001b[0m \u001b[39m    \u001b[39m\u001b[39m\"\"\"\u001b[39;00m\n\u001b[0;32m    160\u001b[0m \u001b[39m    Concatenate pandas objects along a particular axis.\u001b[39;00m\n\u001b[0;32m    161\u001b[0m \n\u001b[1;32m   (...)\u001b[0m\n\u001b[0;32m    366\u001b[0m \u001b[39m    1   3   4\u001b[39;00m\n\u001b[0;32m    367\u001b[0m \u001b[39m    \"\"\"\u001b[39;00m\n\u001b[1;32m--> 368\u001b[0m     op \u001b[39m=\u001b[39m _Concatenator(\n\u001b[0;32m    369\u001b[0m         objs,\n\u001b[0;32m    370\u001b[0m         axis\u001b[39m=\u001b[39;49maxis,\n\u001b[0;32m    371\u001b[0m         ignore_index\u001b[39m=\u001b[39;49mignore_index,\n\u001b[0;32m    372\u001b[0m         join\u001b[39m=\u001b[39;49mjoin,\n\u001b[0;32m    373\u001b[0m         keys\u001b[39m=\u001b[39;49mkeys,\n\u001b[0;32m    374\u001b[0m         levels\u001b[39m=\u001b[39;49mlevels,\n\u001b[0;32m    375\u001b[0m         names\u001b[39m=\u001b[39;49mnames,\n\u001b[0;32m    376\u001b[0m         verify_integrity\u001b[39m=\u001b[39;49mverify_integrity,\n\u001b[0;32m    377\u001b[0m         copy\u001b[39m=\u001b[39;49mcopy,\n\u001b[0;32m    378\u001b[0m         sort\u001b[39m=\u001b[39;49msort,\n\u001b[0;32m    379\u001b[0m     )\n\u001b[0;32m    381\u001b[0m     \u001b[39mreturn\u001b[39;00m op\u001b[39m.\u001b[39mget_result()\n",
      "File \u001b[1;32mc:\\Users\\vince\\anaconda3\\envs\\dev\\lib\\site-packages\\pandas\\core\\reshape\\concat.py:425\u001b[0m, in \u001b[0;36m_Concatenator.__init__\u001b[1;34m(self, objs, axis, join, keys, levels, names, ignore_index, verify_integrity, copy, sort)\u001b[0m\n\u001b[0;32m    422\u001b[0m     objs \u001b[39m=\u001b[39m \u001b[39mlist\u001b[39m(objs)\n\u001b[0;32m    424\u001b[0m \u001b[39mif\u001b[39;00m \u001b[39mlen\u001b[39m(objs) \u001b[39m==\u001b[39m \u001b[39m0\u001b[39m:\n\u001b[1;32m--> 425\u001b[0m     \u001b[39mraise\u001b[39;00m \u001b[39mValueError\u001b[39;00m(\u001b[39m\"\u001b[39m\u001b[39mNo objects to concatenate\u001b[39m\u001b[39m\"\u001b[39m)\n\u001b[0;32m    427\u001b[0m \u001b[39mif\u001b[39;00m keys \u001b[39mis\u001b[39;00m \u001b[39mNone\u001b[39;00m:\n\u001b[0;32m    428\u001b[0m     objs \u001b[39m=\u001b[39m \u001b[39mlist\u001b[39m(com\u001b[39m.\u001b[39mnot_none(\u001b[39m*\u001b[39mobjs))\n",
      "\u001b[1;31mValueError\u001b[0m: No objects to concatenate"
     ]
    }
   ],
   "source": [
    "# combining all the csv files\n",
    "# luckily the structure is all the same so we're able to use the glod module\n",
    "\n",
    "# using glob module to get list\n",
    "# of all csv files in the target directory\n",
    "health_stocks_csv = glob.glob('../eda-project-1-group-4/project-1_data/*.csv')\n",
    "\n",
    "# initializing dataframe\n",
    "health_stocks_csv_df = []\n",
    "\n",
    "# looping through the csv files\n",
    "for csv in health_stocks_csv:\n",
    "    health_stocks_csv_df.append(pd.read_csv(csv))\n",
    "    \n",
    "# concatenating all dataframes\n",
    "\n",
    "combined_health_stocks_csv = pd.concat(health_stocks_csv_df, ignore_index=True)\n",
    "combined_health_stocks_csv.head()\n"
   ]
  },
  {
   "cell_type": "code",
   "execution_count": null,
   "metadata": {},
   "outputs": [
    {
     "data": {
      "text/html": [
       "<div>\n",
       "<style scoped>\n",
       "    .dataframe tbody tr th:only-of-type {\n",
       "        vertical-align: middle;\n",
       "    }\n",
       "\n",
       "    .dataframe tbody tr th {\n",
       "        vertical-align: top;\n",
       "    }\n",
       "\n",
       "    .dataframe thead th {\n",
       "        text-align: right;\n",
       "    }\n",
       "</style>\n",
       "<table border=\"1\" class=\"dataframe\">\n",
       "  <thead>\n",
       "    <tr style=\"text-align: right;\">\n",
       "      <th></th>\n",
       "      <th>Symbol</th>\n",
       "      <th>GICS sector</th>\n",
       "      <th>Category3</th>\n",
       "      <th>Market Cap</th>\n",
       "      <th>Average Volume</th>\n",
       "    </tr>\n",
       "  </thead>\n",
       "  <tbody>\n",
       "    <tr>\n",
       "      <th>0</th>\n",
       "      <td>NVO</td>\n",
       "      <td>Health Care</td>\n",
       "      <td>Large cap</td>\n",
       "      <td>$260,652,723,120</td>\n",
       "      <td>1,565,762</td>\n",
       "    </tr>\n",
       "    <tr>\n",
       "      <th>1</th>\n",
       "      <td>REGN</td>\n",
       "      <td>Health Care</td>\n",
       "      <td>Large cap</td>\n",
       "      <td>$86,238,124,754</td>\n",
       "      <td>637,527</td>\n",
       "    </tr>\n",
       "    <tr>\n",
       "      <th>2</th>\n",
       "      <td>VRTX</td>\n",
       "      <td>Health Care</td>\n",
       "      <td>Large cap</td>\n",
       "      <td>$78,348,616,645</td>\n",
       "      <td>1,110,826</td>\n",
       "    </tr>\n",
       "    <tr>\n",
       "      <th>3</th>\n",
       "      <td>SGEN</td>\n",
       "      <td>Health Care</td>\n",
       "      <td>Large cap</td>\n",
       "      <td>$37,002,973,603</td>\n",
       "      <td>1,468,401</td>\n",
       "    </tr>\n",
       "    <tr>\n",
       "      <th>4</th>\n",
       "      <td>BNTX</td>\n",
       "      <td>Health Care</td>\n",
       "      <td>Large cap</td>\n",
       "      <td>$31,469,610,717</td>\n",
       "      <td>637,153</td>\n",
       "    </tr>\n",
       "    <tr>\n",
       "      <th>...</th>\n",
       "      <td>...</td>\n",
       "      <td>...</td>\n",
       "      <td>...</td>\n",
       "      <td>...</td>\n",
       "      <td>...</td>\n",
       "    </tr>\n",
       "    <tr>\n",
       "      <th>1312</th>\n",
       "      <td>LFMD</td>\n",
       "      <td>Consumer Staples</td>\n",
       "      <td>Micro cap</td>\n",
       "      <td>$46,236,157</td>\n",
       "      <td>80,472</td>\n",
       "    </tr>\n",
       "    <tr>\n",
       "      <th>1313</th>\n",
       "      <td>LFLY</td>\n",
       "      <td>Communication Services</td>\n",
       "      <td>Micro cap</td>\n",
       "      <td>$15,713,960</td>\n",
       "      <td>230,781</td>\n",
       "    </tr>\n",
       "    <tr>\n",
       "      <th>1314</th>\n",
       "      <td>GNLN</td>\n",
       "      <td>Consumer Discretionary</td>\n",
       "      <td>Micro cap</td>\n",
       "      <td>$5,361,583</td>\n",
       "      <td>113,697</td>\n",
       "    </tr>\n",
       "    <tr>\n",
       "      <th>1315</th>\n",
       "      <td>MEDS</td>\n",
       "      <td>Consumer Discretionary</td>\n",
       "      <td>Micro cap</td>\n",
       "      <td>$3,486,129</td>\n",
       "      <td>88,184</td>\n",
       "    </tr>\n",
       "    <tr>\n",
       "      <th>1316</th>\n",
       "      <td>BIMI</td>\n",
       "      <td>Industrials</td>\n",
       "      <td>Micro cap</td>\n",
       "      <td>$2,331,212</td>\n",
       "      <td>112,285</td>\n",
       "    </tr>\n",
       "  </tbody>\n",
       "</table>\n",
       "<p>1317 rows × 5 columns</p>\n",
       "</div>"
      ],
      "text/plain": [
       "     Symbol             GICS sector  Category3        Market Cap  \\\n",
       "0       NVO             Health Care  Large cap  $260,652,723,120   \n",
       "1      REGN             Health Care  Large cap   $86,238,124,754   \n",
       "2      VRTX             Health Care  Large cap   $78,348,616,645   \n",
       "3      SGEN             Health Care  Large cap   $37,002,973,603   \n",
       "4      BNTX             Health Care  Large cap   $31,469,610,717   \n",
       "...     ...                     ...        ...               ...   \n",
       "1312   LFMD        Consumer Staples  Micro cap       $46,236,157   \n",
       "1313   LFLY  Communication Services  Micro cap       $15,713,960   \n",
       "1314   GNLN  Consumer Discretionary  Micro cap        $5,361,583   \n",
       "1315   MEDS  Consumer Discretionary  Micro cap        $3,486,129   \n",
       "1316   BIMI             Industrials  Micro cap        $2,331,212   \n",
       "\n",
       "     Average Volume  \n",
       "0         1,565,762  \n",
       "1           637,527  \n",
       "2         1,110,826  \n",
       "3         1,468,401  \n",
       "4           637,153  \n",
       "...             ...  \n",
       "1312         80,472  \n",
       "1313        230,781  \n",
       "1314        113,697  \n",
       "1315         88,184  \n",
       "1316        112,285  \n",
       "\n",
       "[1317 rows x 5 columns]"
      ]
     },
     "execution_count": 4,
     "metadata": {},
     "output_type": "execute_result"
    }
   ],
   "source": [
    "# dropping unneccesary columns\n",
    "\n",
    "combined_health_stocks_csv = combined_health_stocks_csv.drop(columns = ['Actions', 'Category1', 'Category2', 'Description'])\n",
    "combined_health_stocks_csv\n"
   ]
  },
  {
   "cell_type": "code",
   "execution_count": null,
   "metadata": {},
   "outputs": [],
   "source": [
    "# now to drop stocks in Category1 column if they aren't healthcare\n",
    "\n",
    "cleaned_combined_health_stocks_csv = combined_health_stocks_csv[combined_health_stocks_csv['GICS sector'] == 'Health Care']\n",
    "cleaned_combined_health_stocks_csv\n"
   ]
  },
  {
   "cell_type": "code",
   "execution_count": 4,
   "metadata": {},
   "outputs": [
    {
     "ename": "NameError",
     "evalue": "name 'cleaned_combined_health_stocks_csv' is not defined",
     "output_type": "error",
     "traceback": [
      "\u001b[1;31m---------------------------------------------------------------------------\u001b[0m",
      "\u001b[1;31mNameError\u001b[0m                                 Traceback (most recent call last)",
      "Cell \u001b[1;32mIn[4], line 3\u001b[0m\n\u001b[0;32m      1\u001b[0m \u001b[38;5;66;03m# looking for and deleting duplicates\u001b[39;00m\n\u001b[1;32m----> 3\u001b[0m duplicates \u001b[38;5;241m=\u001b[39m \u001b[43mcleaned_combined_health_stocks_csv\u001b[49m\u001b[38;5;241m.\u001b[39mduplicated()\n\u001b[0;32m      4\u001b[0m duplicates\n",
      "\u001b[1;31mNameError\u001b[0m: name 'cleaned_combined_health_stocks_csv' is not defined"
     ]
    }
   ],
   "source": [
    "# looking for and deleting duplicates\n",
    "\n",
    "duplicates = cleaned_combined_health_stocks_csv.duplicated()\n",
    "duplicates\n",
    "\n",
    "# there aren't any"
   ]
  },
  {
   "cell_type": "code",
   "execution_count": 7,
   "metadata": {},
   "outputs": [],
   "source": [
    "# saving the dataframe as csv so we can read it in other files\n",
    "\n",
    "cleaned_combined_health_stocks_csv.to_csv('cleaned_combined_healthcare_stocks.csv')\n",
    "\n"
   ]
  },
  {
   "cell_type": "code",
   "execution_count": 1,
   "metadata": {},
   "outputs": [
    {
     "ename": "NameError",
     "evalue": "name 'cleaned_combined_healthcare_stocks_csv' is not defined",
     "output_type": "error",
     "traceback": [
      "\u001b[1;31m---------------------------------------------------------------------------\u001b[0m",
      "\u001b[1;31mNameError\u001b[0m                                 Traceback (most recent call last)",
      "Cell \u001b[1;32mIn[1], line 1\u001b[0m\n\u001b[1;32m----> 1\u001b[0m \u001b[43mcleaned_combined_healthcare_stocks_csv\u001b[49m[\u001b[38;5;124m\"\u001b[39m\u001b[38;5;124mReturn from 2017-2019 (Pre-Covid)\u001b[39m\u001b[38;5;124m\"\u001b[39m]\u001b[38;5;241m=\u001b[39m\u001b[38;5;124m\"\u001b[39m\u001b[38;5;124m\"\u001b[39m\n\u001b[0;32m      2\u001b[0m cleaned_combined_healthcare_stocks_csv[\u001b[38;5;124m\"\u001b[39m\u001b[38;5;124mReturn from 2020-2022 (Post-Covid)\u001b[39m\u001b[38;5;124m\"\u001b[39m]\u001b[38;5;241m=\u001b[39m\u001b[38;5;124m\"\u001b[39m\u001b[38;5;124m\"\u001b[39m\n\u001b[0;32m      3\u001b[0m cleaned_combined_healthcare_stocks_csv\u001b[38;5;241m.\u001b[39mhead()\n",
      "\u001b[1;31mNameError\u001b[0m: name 'cleaned_combined_healthcare_stocks_csv' is not defined"
     ]
    }
   ],
   "source": [
    "cleaned_combined_healthcare_stocks_csv[\"Return from 2017-2019 (Pre-Covid)\"]=\"\"\n",
    "cleaned_combined_healthcare_stocks_csv[\"Return from 2020-2022 (Post-Covid)\"]=\"\"\n",
    "cleaned_combined_healthcare_stocks_csv.head()\n"
   ]
  },
  {
   "cell_type": "code",
   "execution_count": null,
   "metadata": {},
   "outputs": [],
   "source": []
  }
 ],
 "metadata": {
  "kernelspec": {
   "display_name": "Python 3 (ipykernel)",
   "language": "python",
   "name": "python3"
  },
  "language_info": {
   "codemirror_mode": {
    "name": "ipython",
    "version": 3
   },
   "file_extension": ".py",
   "mimetype": "text/x-python",
   "name": "python",
   "nbconvert_exporter": "python",
   "pygments_lexer": "ipython3",
   "version": "3.10.11"
  }
 },
 "nbformat": 4,
 "nbformat_minor": 2
}
