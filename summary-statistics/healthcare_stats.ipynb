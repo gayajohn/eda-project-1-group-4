{
 "cells": [
  {
   "cell_type": "code",
   "execution_count": 7,
   "metadata": {},
   "outputs": [],
   "source": [
    "# import modules\n",
    "\n",
    "import pandas as pd\n",
    "import seaborn as sns\n",
    "import matplotlib.pyplot as plt\n",
    "import scipy.stats as st\n",
    "import numpy as np\n"
   ]
  },
  {
   "cell_type": "code",
   "execution_count": 8,
   "metadata": {},
   "outputs": [
    {
     "data": {
      "text/html": [
       "<div>\n",
       "<style scoped>\n",
       "    .dataframe tbody tr th:only-of-type {\n",
       "        vertical-align: middle;\n",
       "    }\n",
       "\n",
       "    .dataframe tbody tr th {\n",
       "        vertical-align: top;\n",
       "    }\n",
       "\n",
       "    .dataframe thead th {\n",
       "        text-align: right;\n",
       "    }\n",
       "</style>\n",
       "<table border=\"1\" class=\"dataframe\">\n",
       "  <thead>\n",
       "    <tr style=\"text-align: right;\">\n",
       "      <th></th>\n",
       "      <th>Unnamed: 0</th>\n",
       "      <th>Symbol</th>\n",
       "      <th>GICS sector</th>\n",
       "      <th>Market Cap Type</th>\n",
       "      <th>Market Cap</th>\n",
       "      <th>Average Volume</th>\n",
       "      <th>Return from 2017-2019 (Pre-Covid)</th>\n",
       "      <th>Return from 2020-2022 (Post-Covid)</th>\n",
       "    </tr>\n",
       "  </thead>\n",
       "  <tbody>\n",
       "    <tr>\n",
       "      <th>0</th>\n",
       "      <td>0</td>\n",
       "      <td>NVO</td>\n",
       "      <td>Health Care</td>\n",
       "      <td>Large cap</td>\n",
       "      <td>260652723120</td>\n",
       "      <td>1565762</td>\n",
       "      <td>59.343087</td>\n",
       "      <td>132.104259</td>\n",
       "    </tr>\n",
       "    <tr>\n",
       "      <th>1</th>\n",
       "      <td>1</td>\n",
       "      <td>REGN</td>\n",
       "      <td>Health Care</td>\n",
       "      <td>Large cap</td>\n",
       "      <td>86238124754</td>\n",
       "      <td>637527</td>\n",
       "      <td>0.771226</td>\n",
       "      <td>90.870368</td>\n",
       "    </tr>\n",
       "    <tr>\n",
       "      <th>2</th>\n",
       "      <td>2</td>\n",
       "      <td>VRTX</td>\n",
       "      <td>Health Care</td>\n",
       "      <td>Large cap</td>\n",
       "      <td>78348616645</td>\n",
       "      <td>1110826</td>\n",
       "      <td>194.195889</td>\n",
       "      <td>31.120592</td>\n",
       "    </tr>\n",
       "    <tr>\n",
       "      <th>3</th>\n",
       "      <td>3</td>\n",
       "      <td>SGEN</td>\n",
       "      <td>Health Care</td>\n",
       "      <td>Large cap</td>\n",
       "      <td>37002973603</td>\n",
       "      <td>1468401</td>\n",
       "      <td>114.216058</td>\n",
       "      <td>13.035440</td>\n",
       "    </tr>\n",
       "    <tr>\n",
       "      <th>4</th>\n",
       "      <td>4</td>\n",
       "      <td>BNTX</td>\n",
       "      <td>Health Care</td>\n",
       "      <td>Large cap</td>\n",
       "      <td>31469610717</td>\n",
       "      <td>637153</td>\n",
       "      <td>111.575757</td>\n",
       "      <td>320.195808</td>\n",
       "    </tr>\n",
       "  </tbody>\n",
       "</table>\n",
       "</div>"
      ],
      "text/plain": [
       "   Unnamed: 0 Symbol  GICS sector Market Cap Type    Market Cap  \\\n",
       "0           0    NVO  Health Care       Large cap  260652723120   \n",
       "1           1   REGN  Health Care       Large cap   86238124754   \n",
       "2           2   VRTX  Health Care       Large cap   78348616645   \n",
       "3           3   SGEN  Health Care       Large cap   37002973603   \n",
       "4           4   BNTX  Health Care       Large cap   31469610717   \n",
       "\n",
       "   Average Volume  Return from 2017-2019 (Pre-Covid)  \\\n",
       "0         1565762                          59.343087   \n",
       "1          637527                           0.771226   \n",
       "2         1110826                         194.195889   \n",
       "3         1468401                         114.216058   \n",
       "4          637153                         111.575757   \n",
       "\n",
       "   Return from 2020-2022 (Post-Covid)  \n",
       "0                          132.104259  \n",
       "1                           90.870368  \n",
       "2                           31.120592  \n",
       "3                           13.035440  \n",
       "4                          320.195808  "
      ]
     },
     "execution_count": 8,
     "metadata": {},
     "output_type": "execute_result"
    }
   ],
   "source": [
    "# reading the csv\n",
    "\n",
    "healthcare_returns_complete_df = pd.read_csv('../summary-statistics/healthcare_returns_complete.csv')\n",
    "healthcare_returns_complete_df.head()\n",
    "\n",
    " "
   ]
  },
  {
   "cell_type": "code",
   "execution_count": 9,
   "metadata": {},
   "outputs": [],
   "source": [
    "# making pre and post covid variables for summary statistics\n",
    "\n",
    "pre_returns = healthcare_returns_complete_df['Return from 2017-2019 (Pre-Covid)']\n",
    "post_returns = healthcare_returns_complete_df['Return from 2020-2022 (Post-Covid)']\n"
   ]
  },
  {
   "cell_type": "markdown",
   "metadata": {},
   "source": [
    "Mean, Median, and Mode of all Healthcare Stocks \n",
    "(Pre and Post-Covid)"
   ]
  },
  {
   "cell_type": "code",
   "execution_count": 32,
   "metadata": {},
   "outputs": [
    {
     "name": "stdout",
     "output_type": "stream",
     "text": [
      "The mean returns of healthcare stocks is 300.65\n",
      "The median of returns of healthcare stocks is -6.80\n"
     ]
    }
   ],
   "source": [
    "# calculating measures of central tendencies pre-covid\n",
    "\n",
    "mean_numpy = np.mean(pre_returns)\n",
    "print(f\"The mean returns of healthcare stocks is {mean_numpy:.2f}\")\n",
    "\n",
    "median_numpy = np.median(pre_returns)\n",
    "print(f\"The median of returns of healthcare stocks is {median_numpy:.2f}\")\n"
   ]
  },
  {
   "cell_type": "code",
   "execution_count": 33,
   "metadata": {},
   "outputs": [
    {
     "name": "stdout",
     "output_type": "stream",
     "text": [
      "The mean returns of healthcare stocks is -16.47\n",
      "The median of returns of healthcare stocks is -52.87\n"
     ]
    }
   ],
   "source": [
    "# calculating measures of central tendencies post-covid\n",
    "\n",
    "mean_numpy = np.mean(post_returns)\n",
    "print(f\"The mean returns of healthcare stocks is {mean_numpy:.2f}\")\n",
    "\n",
    "median_numpy = np.median(post_returns)\n",
    "print(f\"The median of returns of healthcare stocks is {median_numpy:.2f}\")\n"
   ]
  },
  {
   "cell_type": "markdown",
   "metadata": {},
   "source": [
    "Box Plot of All Healthcare Stocks"
   ]
  },
  {
   "cell_type": "code",
   "execution_count": 29,
   "metadata": {},
   "outputs": [
    {
     "name": "stderr",
     "output_type": "stream",
     "text": [
      "C:\\Users\\vince\\AppData\\Local\\Temp\\ipykernel_14032\\2166711732.py:32: UserWarning: FixedFormatter should only be used together with FixedLocator\n",
      "  ax.set_xticklabels(['Pre-Covid', 'Post-Covid'])\n"
     ]
    },
    {
     "data": {
      "image/png": "[encoded data removed]",
      "text/plain": [
       "<Figure size 1000x700 with 1 Axes>"
      ]
     },
     "metadata": {},
     "output_type": "display_data"
    }
   ],
   "source": [
    "# Pre-Covid\n",
    "\n",
    "fig1, ax1 = plt.subplots()\n",
    "ax1.set_title('Temperatures at LAX')\n",
    "ax1.set_ylabel('Temperature (°F)')\n",
    "ax1.boxplot(temperatures)\n",
    "plt.show()\n"
   ]
  },
  {
   "cell_type": "code",
   "execution_count": null,
   "metadata": {},
   "outputs": [],
   "source": [
    "# Post-Covid\n",
    "\n",
    "fig1, ax1 = plt.subplots()\n",
    "ax1.set_title('Temperatures at LAX')\n",
    "ax1.set_ylabel('Temperature (°F)')\n",
    "ax1.boxplot(temperatures)\n",
    "plt.show()\n"
   ]
  },
  {
   "cell_type": "code",
   "execution_count": null,
   "metadata": {},
   "outputs": [],
   "source": [
    "# If the data is in a dataframe, we use pandas to give quartile calculations\n",
    "quartiles = temperatures.quantile([.25,.5,.75])\n",
    "lowerq = quartiles[0.25]\n",
    "upperq = quartiles[0.75]\n",
    "iqr = upperq-lowerq\n",
    "\n",
    "print(f\"The lower quartile of temperatures is: {lowerq}\")\n",
    "print(f\"The upper quartile of temperatures is: {upperq}\")\n",
    "print(f\"The interquartile range of temperatures is: {iqr}\")\n",
    "print(f\"The the median of temperatures is: {quartiles[0.5]} \")\n",
    "\n",
    "lower_bound = lowerq - (1.5*iqr)\n",
    "upper_bound = upperq + (1.5*iqr)\n",
    "print(f\"Values below {lower_bound} could be outliers.\")\n",
    "print(f\"Values above {upper_bound} could be outliers.\")"
   ]
  },
  {
   "cell_type": "markdown",
   "metadata": {},
   "source": [
    "Line Plot for All Healthcare Stocks Returns Pre vs. Post-Covid"
   ]
  },
  {
   "cell_type": "code",
   "execution_count": 30,
   "metadata": {},
   "outputs": [
    {
     "data": {
      "image/png": "[encoded data removed]",
      "text/plain": [
       "<Figure size 1000x700 with 1 Axes>"
      ]
     },
     "metadata": {},
     "output_type": "display_data"
    }
   ],
   "source": [
    "# \n",
    "\n",
    "plt.figure(figsize=(10,7))\n",
    "plt.plot(healthcare_returns_complete_df.index, healthcare_returns_complete_df['Return from 2017-2019 (Pre-Covid)'], label='Pre-Covid')\n",
    "plt.plot(healthcare_returns_complete_df.index, healthcare_returns_complete_df['Return from 2020-2022 (Post-Covid)'], label='Post-Covid')\n",
    "plt.xlabel('Date')\n",
    "plt.ylabel('Returns')\n",
    "plt.title('Returns of Healthcare Stocks: Pre vs. Post Covid')\n",
    "plt.legend()\n",
    "plt.show()"
   ]
  },
  {
   "cell_type": "markdown",
   "metadata": {},
   "source": [
    "Large Caps"
   ]
  },
  {
   "cell_type": "code",
   "execution_count": 31,
   "metadata": {},
   "outputs": [
    {
     "name": "stdout",
     "output_type": "stream",
     "text": [
      "The mean returns of large cap healthcare stocks pre-covid is -16.47\n",
      "The mean returns of large cap healthcare stocks post-covid is -16.47\n",
      "The median returns of large cap healthcare stocks pre-covid is -52.87\n",
      "The median returns of large cap healthcare stocks post-covid is -52.87\n"
     ]
    }
   ],
   "source": [
    "# making pre and post covid variables for summary statistics - large caps\n",
    "\n",
    "mean_returns_pre_covid = healthcare_returns_complete_df.groupby('Market Cap Type')['Return from 2017-2019 (Pre-Covid)'].mean()\n",
    "print(f\"The mean returns of large cap healthcare stocks pre-covid is {mean_numpy:.2f}\")\n",
    "\n",
    "mean_returns_post_covid = healthcare_returns_complete_df.groupby('Market Cap Type')['Return from 2020-2022 (Post-Covid)'].mean()\n",
    "print(f\"The mean returns of large cap healthcare stocks post-covid is {mean_numpy:.2f}\")\n",
    "\n",
    "median_returns_pre_covid = healthcare_returns_complete_df.groupby('Market Cap Type')['Return from 2017-2019 (Pre-Covid)'].median()\n",
    "print(f\"The median returns of large cap healthcare stocks pre-covid is {median_numpy:.2f}\")\n",
    "\n",
    "median_returns_post_covid = healthcare_returns_complete_df.groupby('Market Cap Type')['Return from 2020-2022 (Post-Covid)'].median()\n",
    "print(f\"The median returns of large cap healthcare stocks post-covid is {median_numpy:.2f}\")\n",
    "\n"
   ]
  },
  {
   "cell_type": "code",
   "execution_count": null,
   "metadata": {},
   "outputs": [],
   "source": []
  },
  {
   "cell_type": "code",
   "execution_count": null,
   "metadata": {},
   "outputs": [],
   "source": []
  }
 ],
 "metadata": {
  "kernelspec": {
   "display_name": "dev",
   "language": "python",
   "name": "python3"
  },
  "language_info": {
   "codemirror_mode": {
    "name": "ipython",
    "version": 3
   },
   "file_extension": ".py",
   "mimetype": "text/x-python",
   "name": "python",
   "nbconvert_exporter": "python",
   "pygments_lexer": "ipython3",
   "version": "3.10.11"
  },
  "orig_nbformat": 4
 },
 "nbformat": 4,
 "nbformat_minor": 2
}
