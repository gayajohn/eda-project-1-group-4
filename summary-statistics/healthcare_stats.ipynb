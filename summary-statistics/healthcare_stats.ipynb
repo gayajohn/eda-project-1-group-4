{
 "cells": [
  {
   "cell_type": "code",
   "execution_count": 1,
   "metadata": {},
   "outputs": [],
   "source": [
    "# import modules\n",
    "\n",
    "import pandas as pd\n",
    "import matplotlib.pyplot as plt\n",
    "import scipy.stats as st\n",
    "import numpy as np\n"
   ]
  },
  {
   "cell_type": "code",
   "execution_count": 2,
   "metadata": {},
   "outputs": [
    {
     "data": {
      "text/html": [
       "<div>\n",
       "<style scoped>\n",
       "    .dataframe tbody tr th:only-of-type {\n",
       "        vertical-align: middle;\n",
       "    }\n",
       "\n",
       "    .dataframe tbody tr th {\n",
       "        vertical-align: top;\n",
       "    }\n",
       "\n",
       "    .dataframe thead th {\n",
       "        text-align: right;\n",
       "    }\n",
       "</style>\n",
       "<table border=\"1\" class=\"dataframe\">\n",
       "  <thead>\n",
       "    <tr style=\"text-align: right;\">\n",
       "      <th></th>\n",
       "      <th>Unnamed: 0</th>\n",
       "      <th>Symbol</th>\n",
       "      <th>GICS sector</th>\n",
       "      <th>Market Cap Type</th>\n",
       "      <th>Market Cap</th>\n",
       "      <th>Average Volume</th>\n",
       "      <th>Return from 2017-2019 (Pre-Covid)</th>\n",
       "      <th>Return from 2020-2022 (Post-Covid)</th>\n",
       "    </tr>\n",
       "  </thead>\n",
       "  <tbody>\n",
       "    <tr>\n",
       "      <th>0</th>\n",
       "      <td>0</td>\n",
       "      <td>NVO</td>\n",
       "      <td>Health Care</td>\n",
       "      <td>Large cap</td>\n",
       "      <td>260652723120</td>\n",
       "      <td>1565762</td>\n",
       "      <td>59.343087</td>\n",
       "      <td>132.104259</td>\n",
       "    </tr>\n",
       "    <tr>\n",
       "      <th>1</th>\n",
       "      <td>1</td>\n",
       "      <td>REGN</td>\n",
       "      <td>Health Care</td>\n",
       "      <td>Large cap</td>\n",
       "      <td>86238124754</td>\n",
       "      <td>637527</td>\n",
       "      <td>0.771226</td>\n",
       "      <td>90.870368</td>\n",
       "    </tr>\n",
       "    <tr>\n",
       "      <th>2</th>\n",
       "      <td>2</td>\n",
       "      <td>VRTX</td>\n",
       "      <td>Health Care</td>\n",
       "      <td>Large cap</td>\n",
       "      <td>78348616645</td>\n",
       "      <td>1110826</td>\n",
       "      <td>194.195889</td>\n",
       "      <td>31.120592</td>\n",
       "    </tr>\n",
       "    <tr>\n",
       "      <th>3</th>\n",
       "      <td>3</td>\n",
       "      <td>SGEN</td>\n",
       "      <td>Health Care</td>\n",
       "      <td>Large cap</td>\n",
       "      <td>37002973603</td>\n",
       "      <td>1468401</td>\n",
       "      <td>114.216058</td>\n",
       "      <td>13.035440</td>\n",
       "    </tr>\n",
       "    <tr>\n",
       "      <th>4</th>\n",
       "      <td>4</td>\n",
       "      <td>BNTX</td>\n",
       "      <td>Health Care</td>\n",
       "      <td>Large cap</td>\n",
       "      <td>31469610717</td>\n",
       "      <td>637153</td>\n",
       "      <td>111.575757</td>\n",
       "      <td>320.195808</td>\n",
       "    </tr>\n",
       "  </tbody>\n",
       "</table>\n",
       "</div>"
      ],
      "text/plain": [
       "   Unnamed: 0 Symbol  GICS sector Market Cap Type    Market Cap  \\\n",
       "0           0    NVO  Health Care       Large cap  260652723120   \n",
       "1           1   REGN  Health Care       Large cap   86238124754   \n",
       "2           2   VRTX  Health Care       Large cap   78348616645   \n",
       "3           3   SGEN  Health Care       Large cap   37002973603   \n",
       "4           4   BNTX  Health Care       Large cap   31469610717   \n",
       "\n",
       "   Average Volume  Return from 2017-2019 (Pre-Covid)  \\\n",
       "0         1565762                          59.343087   \n",
       "1          637527                           0.771226   \n",
       "2         1110826                         194.195889   \n",
       "3         1468401                         114.216058   \n",
       "4          637153                         111.575757   \n",
       "\n",
       "   Return from 2020-2022 (Post-Covid)  \n",
       "0                          132.104259  \n",
       "1                           90.870368  \n",
       "2                           31.120592  \n",
       "3                           13.035440  \n",
       "4                          320.195808  "
      ]
     },
     "execution_count": 2,
     "metadata": {},
     "output_type": "execute_result"
    }
   ],
   "source": [
    "# reading the csv\n",
    "\n",
    "healthcare_returns_complete_df = pd.read_csv('../summary-statistics/healthcare_returns_complete.csv')\n",
    "healthcare_returns_complete_df.head()\n",
    "\n"
   ]
  },
  {
   "cell_type": "code",
   "execution_count": 3,
   "metadata": {},
   "outputs": [],
   "source": [
    "# making pre and post covid variables for summary statistics\n",
    "\n",
    "pre_returns = healthcare_returns_complete_df['Return from 2017-2019 (Pre-Covid)']\n",
    "post_returns = healthcare_returns_complete_df['Return from 2020-2022 (Post-Covid)']\n"
   ]
  },
  {
   "cell_type": "markdown",
   "metadata": {},
   "source": [
    "Mean, Median, Std dev, Variance, Quartiles of all Healthcare Stocks \n",
    "(Pre and Post-Covid)"
   ]
  },
  {
   "cell_type": "code",
   "execution_count": 4,
   "metadata": {},
   "outputs": [
    {
     "name": "stdout",
     "output_type": "stream",
     "text": [
      "The mean returns of healthcare stocks pre-covid is 300.65\n",
      "The median of returns of healthcare stocks pre-covid is -6.80\n",
      "The standard deviation of returns of healthcare stocks pre-covid is 7267.92\n",
      "The variance of returns of healthcare stocks pre-covid is 52822725.31\n",
      "Pre-Covid Returns Quartiles: Lower = -69.32, Mid = -6.80, Lower = 68.96\n"
     ]
    }
   ],
   "source": [
    "# calculating measures of central tendencies pre-covid\n",
    "\n",
    "mean_numpy = np.mean(pre_returns)\n",
    "print(f\"The mean returns of healthcare stocks pre-covid is {mean_numpy:.2f}\")\n",
    "\n",
    "median_numpy = np.median(pre_returns)\n",
    "print(f\"The median of returns of healthcare stocks pre-covid is {median_numpy:.2f}\")\n",
    "\n",
    "std_dev_numpy = np.std(pre_returns)\n",
    "print(f\"The standard deviation of returns of healthcare stocks pre-covid is {std_dev_numpy:.2f}\")\n",
    "\n",
    "variance_numpy = np.var(pre_returns)\n",
    "print(f\"The variance of returns of healthcare stocks pre-covid is {variance_numpy:.2f}\")\n",
    "\n",
    "# calculating quartiles for pre-covid returns\n",
    "Q1_pre_covid = healthcare_returns_complete_df['Return from 2017-2019 (Pre-Covid)'].quantile(0.25)\n",
    "Q2_pre_covid = healthcare_returns_complete_df['Return from 2017-2019 (Pre-Covid)'].quantile(0.5)\n",
    "Q3_pre_covid = healthcare_returns_complete_df['Return from 2017-2019 (Pre-Covid)'].quantile(0.75)\n",
    "print(f\"Pre-Covid Returns Quartiles: Lower = {Q1_pre_covid:.2f}, Mid = {Q2_pre_covid:.2f}, Lower = {Q3_pre_covid:.2f}\")\n",
    "\n"
   ]
  },
  {
   "cell_type": "code",
   "execution_count": 5,
   "metadata": {},
   "outputs": [
    {
     "name": "stdout",
     "output_type": "stream",
     "text": [
      "The mean returns of healthcare stocks post-covid is -16.47\n",
      "The median of returns of healthcare stocks post-covid is -52.87\n",
      "The standard deviation of returns of healthcare stocks post-covid is 120.99\n",
      "The variance of returns of healthcare stocks post-covid is 14639.59\n",
      "Post-Covid Returns Quartiles: Q1=-84.56, Q2=-52.87, Q3=12.98\n"
     ]
    }
   ],
   "source": [
    "# calculating measures of central tendencies post-covid\n",
    "\n",
    "mean_numpy = np.mean(post_returns)\n",
    "print(f\"The mean returns of healthcare stocks post-covid is {mean_numpy:.2f}\")\n",
    "\n",
    "median_numpy = np.median(post_returns)\n",
    "print(f\"The median of returns of healthcare stocks post-covid is {median_numpy:.2f}\")\n",
    "\n",
    "std_dev_numpy = np.std(post_returns)\n",
    "print(f\"The standard deviation of returns of healthcare stocks post-covid is {std_dev_numpy:.2f}\")\n",
    "\n",
    "variance_numpy = np.var(post_returns)\n",
    "print(f\"The variance of returns of healthcare stocks post-covid is {variance_numpy:.2f}\")\n",
    "\n",
    "# calculating quartiles for post-covid returns\n",
    "\n",
    "Q1_post_covid = healthcare_returns_complete_df['Return from 2020-2022 (Post-Covid)'].quantile(0.25)\n",
    "Q2_post_covid = healthcare_returns_complete_df['Return from 2020-2022 (Post-Covid)'].quantile(0.5)\n",
    "Q3_post_covid = healthcare_returns_complete_df['Return from 2020-2022 (Post-Covid)'].quantile(0.75)\n",
    "print(f\"Post-Covid Returns Quartiles: Q1={Q1_post_covid:.2f}, Q2={Q2_post_covid:.2f}, Q3={Q3_post_covid:.2f}\")\n"
   ]
  },
  {
   "cell_type": "markdown",
   "metadata": {},
   "source": [
    "Mean, Median, Std dev, Variance, Quartiles of large cap Healthcare Stocks \n",
    "(Pre and Post-Covid)"
   ]
  },
  {
   "cell_type": "code",
   "execution_count": 6,
   "metadata": {},
   "outputs": [],
   "source": [
    "# Filter for large cap stocks\n",
    "\n",
    "large_cap_healthcare = healthcare_returns_complete_df[healthcare_returns_complete_df['Market Cap Type'] == 'Large cap']"
   ]
  },
  {
   "cell_type": "code",
   "execution_count": 7,
   "metadata": {},
   "outputs": [
    {
     "name": "stdout",
     "output_type": "stream",
     "text": [
      "The mean returns of large cap healthcare stocks pre-covid is 100.76\n",
      "The median returns of large cap healthcare stocks pre-covid is 81.47\n",
      "The standard deviation of returns of large cap healthcare stocks pre-covid is 129.14\n",
      "The variance of returns of large cap healthcare stocks pre-covid is 16675.96\n",
      "Post-Covid Returns Quartiles for Large Caps: Lower = 22.53, Mid = 81.47, Upper = 124.94\n"
     ]
    }
   ],
   "source": [
    "# Calculate statistics for pre-covid returns\n",
    "\n",
    "mean_pre_covid_large = large_cap_healthcare['Return from 2017-2019 (Pre-Covid)'].mean()\n",
    "print(f\"The mean returns of large cap healthcare stocks pre-covid is {mean_pre_covid_large:.2f}\")\n",
    "\n",
    "median_pre_covid_large = large_cap_healthcare['Return from 2017-2019 (Pre-Covid)'].median()\n",
    "print(f\"The median returns of large cap healthcare stocks pre-covid is {median_pre_covid_large:.2f}\")\n",
    "\n",
    "std_pre_covid_large = large_cap_healthcare['Return from 2017-2019 (Pre-Covid)'].std()\n",
    "print(f\"The standard deviation of returns of large cap healthcare stocks pre-covid is {std_pre_covid_large:.2f}\")\n",
    "\n",
    "var_pre_covid_large = large_cap_healthcare['Return from 2017-2019 (Pre-Covid)'].var()\n",
    "print(f\"The variance of returns of large cap healthcare stocks pre-covid is {var_pre_covid_large:.2f}\")\n",
    "\n",
    "Q1_pre_covid_large = large_cap_healthcare['Return from 2017-2019 (Pre-Covid)'].quantile(0.25)\n",
    "Q2_pre_covid_large = large_cap_healthcare['Return from 2017-2019 (Pre-Covid)'].quantile(0.5)\n",
    "Q3_pre_covid_large = large_cap_healthcare['Return from 2017-2019 (Pre-Covid)'].quantile(0.75)\n",
    "print(f\"Post-Covid Returns Quartiles for Large Caps: Lower = {Q1_pre_covid_large:.2f}, Mid = {Q2_pre_covid_large:.2f}, Upper = {Q3_pre_covid_large:.2f}\")\n"
   ]
  },
  {
   "cell_type": "code",
   "execution_count": 8,
   "metadata": {},
   "outputs": [
    {
     "name": "stdout",
     "output_type": "stream",
     "text": [
      "The mean returns of large cap healthcare stocks post-covid is 50.23\n",
      "The median returns of large cap healthcare stocks post-covid is 31.06\n",
      "The standard deviation of returns of large cap healthcare stocks post-covid is 106.96\n",
      "The variance of returns of large cap healthcare stocks post-covid is 11439.45\n",
      "Post-Covid Returns Quartiles for Large Caps: Lower = 1.85, Mid = 31.06, Upper = 67.18\n"
     ]
    }
   ],
   "source": [
    "# Calculate statistics for post-covid returns\n",
    "\n",
    "mean_post_covid_large = large_cap_healthcare['Return from 2020-2022 (Post-Covid)'].mean()\n",
    "print(f\"The mean returns of large cap healthcare stocks post-covid is {mean_post_covid_large:.2f}\")\n",
    "\n",
    "median_post_covid_large = large_cap_healthcare['Return from 2020-2022 (Post-Covid)'].median()\n",
    "print(f\"The median returns of large cap healthcare stocks post-covid is {median_post_covid_large:.2f}\")\n",
    "\n",
    "std_post_covid_large = large_cap_healthcare['Return from 2020-2022 (Post-Covid)'].std()\n",
    "print(f\"The standard deviation of returns of large cap healthcare stocks post-covid is {std_post_covid_large:.2f}\")\n",
    "\n",
    "var_post_covid_large = large_cap_healthcare['Return from 2020-2022 (Post-Covid)'].var()\n",
    "print(f\"The variance of returns of large cap healthcare stocks post-covid is {var_post_covid_large:.2f}\")\n",
    "\n",
    "Q1_post_covid_large = large_cap_healthcare['Return from 2020-2022 (Post-Covid)'].quantile(0.25)\n",
    "Q2_post_covid_large = large_cap_healthcare['Return from 2020-2022 (Post-Covid)'].quantile(0.5)\n",
    "Q3_post_covid_large = large_cap_healthcare['Return from 2020-2022 (Post-Covid)'].quantile(0.75)\n",
    "print(f\"Post-Covid Returns Quartiles for Large Caps: Lower = {Q1_post_covid_large:.2f}, Mid = {Q2_post_covid_large:.2f}, Upper = {Q3_post_covid_large:.2f}\")"
   ]
  },
  {
   "cell_type": "code",
   "execution_count": 9,
   "metadata": {},
   "outputs": [],
   "source": [
    "# Filter for mid cap stocks\n",
    "\n",
    "mid_cap_healthcare = healthcare_returns_complete_df[healthcare_returns_complete_df['Market Cap Type'] == 'Mid cap']"
   ]
  },
  {
   "cell_type": "code",
   "execution_count": 10,
   "metadata": {},
   "outputs": [
    {
     "name": "stdout",
     "output_type": "stream",
     "text": [
      "The mean returns of mid cap healthcare stocks pre-covid is 191.41\n",
      "The median returns of mid cap healthcare stocks pre-covid is 76.71\n",
      "The standard deviation of returns of mid cap healthcare stocks pre-covid is 502.70\n",
      "The variance of returns of mid cap healthcare stocks pre-covid is 252708.87\n",
      "Post-Covid Returns Quartiles for Mid Caps: Lower = 16.41, Mid = 76.71, Upper = 178.51\n"
     ]
    }
   ],
   "source": [
    "# Calculate statistics for pre-covid returns\n",
    "\n",
    "mean_pre_covid_mid = mid_cap_healthcare['Return from 2017-2019 (Pre-Covid)'].mean()\n",
    "print(f\"The mean returns of mid cap healthcare stocks pre-covid is {mean_pre_covid_mid:.2f}\")\n",
    "\n",
    "median_pre_covid_mid = mid_cap_healthcare['Return from 2017-2019 (Pre-Covid)'].median()\n",
    "print(f\"The median returns of mid cap healthcare stocks pre-covid is {median_pre_covid_mid:.2f}\")\n",
    "\n",
    "std_pre_covid_mid = mid_cap_healthcare['Return from 2017-2019 (Pre-Covid)'].std()\n",
    "print(f\"The standard deviation of returns of mid cap healthcare stocks pre-covid is {std_pre_covid_mid:.2f}\")\n",
    "\n",
    "var_pre_covid_mid = mid_cap_healthcare['Return from 2017-2019 (Pre-Covid)'].var()\n",
    "print(f\"The variance of returns of mid cap healthcare stocks pre-covid is {var_pre_covid_mid:.2f}\")\n",
    "\n",
    "Q1_pre_covid_mid = mid_cap_healthcare['Return from 2017-2019 (Pre-Covid)'].quantile(0.25)\n",
    "Q2_pre_covid_mid = mid_cap_healthcare['Return from 2017-2019 (Pre-Covid)'].quantile(0.5)\n",
    "Q3_pre_covid_mid = mid_cap_healthcare['Return from 2017-2019 (Pre-Covid)'].quantile(0.75)\n",
    "print(f\"Post-Covid Returns Quartiles for Mid Caps: Lower = {Q1_pre_covid_mid:.2f}, Mid = {Q2_pre_covid_mid:.2f}, Upper = {Q3_pre_covid_mid:.2f}\")"
   ]
  },
  {
   "cell_type": "code",
   "execution_count": 11,
   "metadata": {},
   "outputs": [
    {
     "name": "stdout",
     "output_type": "stream",
     "text": [
      "The mean returns of mid cap healthcare stocks post-covid is 31.91\n",
      "The median returns of mid cap healthcare stocks post-covid is 7.30\n",
      "The standard deviation of returns of mid cap healthcare stocks post-covid is 92.79\n",
      "The variance of returns of mid cap healthcare stocks post-covid is 8609.28\n",
      "Post-Covid Returns Quartiles for Mid Caps: Lower = -29.43, Mid = 7.30, Upper = 65.66\n"
     ]
    }
   ],
   "source": [
    "# Calculate statistics for post-covid returns\n",
    "\n",
    "mean_post_covid_mid = mid_cap_healthcare['Return from 2020-2022 (Post-Covid)'].mean()\n",
    "print(f\"The mean returns of mid cap healthcare stocks post-covid is {mean_post_covid_mid:.2f}\")\n",
    "\n",
    "median_post_covid_mid = mid_cap_healthcare['Return from 2020-2022 (Post-Covid)'].median()\n",
    "print(f\"The median returns of mid cap healthcare stocks post-covid is {median_post_covid_mid:.2f}\")\n",
    "\n",
    "std_post_covid_mid = mid_cap_healthcare['Return from 2020-2022 (Post-Covid)'].std()\n",
    "print(f\"The standard deviation of returns of mid cap healthcare stocks post-covid is {std_post_covid_mid:.2f}\")\n",
    "\n",
    "var_post_covid_mid = mid_cap_healthcare['Return from 2020-2022 (Post-Covid)'].var()\n",
    "print(f\"The variance of returns of mid cap healthcare stocks post-covid is {var_post_covid_mid:.2f}\")\n",
    "\n",
    "Q1_post_covid_mid = mid_cap_healthcare['Return from 2020-2022 (Post-Covid)'].quantile(0.25)\n",
    "Q2_post_covid_mid = mid_cap_healthcare['Return from 2020-2022 (Post-Covid)'].quantile(0.5)\n",
    "Q3_post_covid_mid = mid_cap_healthcare['Return from 2020-2022 (Post-Covid)'].quantile(0.75)\n",
    "print(f\"Post-Covid Returns Quartiles for Mid Caps: Lower = {Q1_post_covid_mid:.2f}, Mid = {Q2_post_covid_mid:.2f}, Upper = {Q3_post_covid_mid:.2f}\")"
   ]
  },
  {
   "cell_type": "code",
   "execution_count": 12,
   "metadata": {},
   "outputs": [],
   "source": [
    "# Filter for small cap stocks\n",
    "\n",
    "small_cap_healthcare = healthcare_returns_complete_df[healthcare_returns_complete_df['Market Cap Type'] == 'Small cap']"
   ]
  },
  {
   "cell_type": "code",
   "execution_count": 13,
   "metadata": {},
   "outputs": [
    {
     "name": "stdout",
     "output_type": "stream",
     "text": [
      "The mean returns of mid cap healthcare stocks pre-covid is 1198.39\n",
      "The median returns of mid cap healthcare stocks pre-covid is 11.22\n",
      "The standard deviation of returns of mid cap healthcare stocks pre-covid is 15281.49\n",
      "The variance of returns of mid cap healthcare stocks pre-covid is 233524043.38\n",
      "Post-Covid Returns Quartiles for Mid Caps: Lower = -25.79, Mid = 11.22, Upper = 78.90\n"
     ]
    }
   ],
   "source": [
    "# Calculate statistics for pre-covid returns\n",
    "\n",
    "mean_pre_covid_small = small_cap_healthcare['Return from 2017-2019 (Pre-Covid)'].mean()\n",
    "print(f\"The mean returns of mid cap healthcare stocks pre-covid is {mean_pre_covid_small:.2f}\")\n",
    "\n",
    "median_pre_covid_small = small_cap_healthcare['Return from 2017-2019 (Pre-Covid)'].median()\n",
    "print(f\"The median returns of mid cap healthcare stocks pre-covid is {median_pre_covid_small:.2f}\")\n",
    "\n",
    "std_pre_covid_small = small_cap_healthcare['Return from 2017-2019 (Pre-Covid)'].std()\n",
    "print(f\"The standard deviation of returns of mid cap healthcare stocks pre-covid is {std_pre_covid_small:.2f}\")\n",
    "\n",
    "var_pre_covid_small = small_cap_healthcare['Return from 2017-2019 (Pre-Covid)'].var()\n",
    "print(f\"The variance of returns of mid cap healthcare stocks pre-covid is {var_pre_covid_small:.2f}\")\n",
    "\n",
    "Q1_pre_covid_small = small_cap_healthcare['Return from 2017-2019 (Pre-Covid)'].quantile(0.25)\n",
    "Q2_pre_covid_small = small_cap_healthcare['Return from 2017-2019 (Pre-Covid)'].quantile(0.5)\n",
    "Q3_pre_covid_small = small_cap_healthcare['Return from 2017-2019 (Pre-Covid)'].quantile(0.75)\n",
    "print(f\"Post-Covid Returns Quartiles for Mid Caps: Lower = {Q1_pre_covid_small:.2f}, Mid = {Q2_pre_covid_small:.2f}, Upper = {Q3_pre_covid_small:.2f}\")\n"
   ]
  },
  {
   "cell_type": "code",
   "execution_count": 14,
   "metadata": {},
   "outputs": [
    {
     "name": "stdout",
     "output_type": "stream",
     "text": [
      "The mean returns of mid cap healthcare stocks post-covid is 24.62\n",
      "The median returns of mid cap healthcare stocks post-covid is -16.11\n",
      "The standard deviation of returns of mid cap healthcare stocks post-covid is 177.19\n",
      "The variance of returns of mid cap healthcare stocks post-covid is 31397.82\n",
      "Post-Covid Returns Quartiles for Mid Caps: Lower = -55.69, Mid = -16.11, Upper = 45.10\n"
     ]
    }
   ],
   "source": [
    "# Calculate statistics for post-covid returns\n",
    "\n",
    "mean_post_covid_small = small_cap_healthcare['Return from 2020-2022 (Post-Covid)'].mean()\n",
    "print(f\"The mean returns of mid cap healthcare stocks post-covid is {mean_post_covid_small:.2f}\")\n",
    "\n",
    "median_post_covid_small = small_cap_healthcare['Return from 2020-2022 (Post-Covid)'].median()\n",
    "print(f\"The median returns of mid cap healthcare stocks post-covid is {median_post_covid_small:.2f}\")\n",
    "\n",
    "std_post_covid_small = small_cap_healthcare['Return from 2020-2022 (Post-Covid)'].std()\n",
    "print(f\"The standard deviation of returns of mid cap healthcare stocks post-covid is {std_post_covid_small:.2f}\")\n",
    "\n",
    "var_post_covid_small = small_cap_healthcare['Return from 2020-2022 (Post-Covid)'].var()\n",
    "print(f\"The variance of returns of mid cap healthcare stocks post-covid is {var_post_covid_small:.2f}\")\n",
    "\n",
    "Q1_post_covid_small = small_cap_healthcare['Return from 2020-2022 (Post-Covid)'].quantile(0.25)\n",
    "Q2_post_covid_small = small_cap_healthcare['Return from 2020-2022 (Post-Covid)'].quantile(0.5)\n",
    "Q3_post_covid_small = small_cap_healthcare['Return from 2020-2022 (Post-Covid)'].quantile(0.75)\n",
    "print(f\"Post-Covid Returns Quartiles for Mid Caps: Lower = {Q1_post_covid_small:.2f}, Mid = {Q2_post_covid_small:.2f}, Upper = {Q3_post_covid_small:.2f}\")\n"
   ]
  },
  {
   "cell_type": "markdown",
   "metadata": {},
   "source": [
    "Box Plot of All Healthcare Stocks by Market Cap"
   ]
  },
  {
   "cell_type": "code",
   "execution_count": 31,
   "metadata": {},
   "outputs": [
    {
     "data": {
      "image/png": "[encoded data removed]",
      "text/plain": [
       "<Figure size 1200x900 with 1 Axes>"
      ]
     },
     "metadata": {},
     "output_type": "display_data"
    }
   ],
   "source": [
    "# organizing by market cap categegory pre and post covid\n",
    "# organizing data into different dataframes\n",
    "large_pre_covid = healthcare_returns_complete_df.loc[(healthcare_returns_complete_df['Market Cap Type'] == 'Large cap')]['Return from 2017-2019 (Pre-Covid)']\n",
    "large_post_covid = healthcare_returns_complete_df.loc[(healthcare_returns_complete_df['Market Cap Type'] == 'Large cap')]['Return from 2020-2022 (Post-Covid)']\n",
    "\n",
    "mid_pre_covid = healthcare_returns_complete_df.loc[(healthcare_returns_complete_df['Market Cap Type'] == 'Mid cap')]['Return from 2017-2019 (Pre-Covid)']\n",
    "mid_post_covid = healthcare_returns_complete_df.loc[(healthcare_returns_complete_df['Market Cap Type'] == 'Mid cap')]['Return from 2020-2022 (Post-Covid)']\n",
    "\n",
    "small_pre_covid = healthcare_returns_complete_df.loc[(healthcare_returns_complete_df['Market Cap Type'] == 'Small cap')]['Return from 2017-2019 (Pre-Covid)']\n",
    "small_post_covid = healthcare_returns_complete_df.loc[(healthcare_returns_complete_df['Market Cap Type'] == 'Small cap')]['Return from 2020-2022 (Post-Covid)']\n",
    "\n",
    "# Create figure and axes\n",
    "fig, ax = plt.subplots(figsize=(12, 9))\n",
    "\n",
    "# Add boxplots. The positions parameter specifies the x-coordinates of the boxes.\n",
    "ax.boxplot([large_pre_covid.dropna(),\n",
    "            large_post_covid.dropna(),\n",
    "             \n",
    "            mid_pre_covid.dropna(), \n",
    "            mid_post_covid.dropna(),\n",
    "             \n",
    "            small_pre_covid.dropna(), \n",
    "            small_post_covid.dropna()],\n",
    "            \n",
    "            positions=[1, 2, 5, 6, 9, 10]),\n",
    "\n",
    "# Set box colors\n",
    "\n",
    "    \n",
    "# x-axis labels\n",
    "ax.set_xticklabels(['Large pre', 'Large post', 'Mid pre', 'Mid post', 'Small pre', 'Small post'])\n",
    "\n",
    "# y-axis label\n",
    "ax.set_ylabel('Return %')\n",
    "\n",
    "# Show the plot\n",
    "plt.show()\n",
    "\n",
    "# has an outlier so will redo and remove in the next cell\n",
    "# also will add colours"
   ]
  },
  {
   "cell_type": "code",
   "execution_count": 43,
   "metadata": {},
   "outputs": [
    {
     "data": {
      "image/png": "[encoded data removed]",
      "text/plain": [
       "<Figure size 1200x900 with 1 Axes>"
      ]
     },
     "metadata": {},
     "output_type": "display_data"
    }
   ],
   "source": [
    "# dropping outliers\n",
    "outlier_healthcare_stock = 'IMTX'\n",
    "\n",
    "# creaing new df that doesn't include the outlier\n",
    "healthcare_returns_complete_df_filtered = healthcare_returns_complete_df[healthcare_returns_complete_df['Symbol'] != outlier_healthcare_stock]\n",
    "\n",
    "# organizing by market cap categegory pre and post covid\n",
    "# organizing data into different dataframes\n",
    "large_pre_covid = healthcare_returns_complete_df_filtered.loc[(healthcare_returns_complete_df_filtered['Market Cap Type'] == 'Large cap')]['Return from 2017-2019 (Pre-Covid)']\n",
    "large_post_covid = healthcare_returns_complete_df_filtered.loc[(healthcare_returns_complete_df_filtered['Market Cap Type'] == 'Large cap')]['Return from 2020-2022 (Post-Covid)']\n",
    "\n",
    "mid_pre_covid = healthcare_returns_complete_df_filtered.loc[(healthcare_returns_complete_df_filtered['Market Cap Type'] == 'Mid cap')]['Return from 2017-2019 (Pre-Covid)']\n",
    "mid_post_covid = healthcare_returns_complete_df_filtered.loc[(healthcare_returns_complete_df_filtered['Market Cap Type'] == 'Mid cap')]['Return from 2020-2022 (Post-Covid)']\n",
    "\n",
    "small_pre_covid = healthcare_returns_complete_df_filtered.loc[(healthcare_returns_complete_df_filtered['Market Cap Type'] == 'Small cap')]['Return from 2017-2019 (Pre-Covid)']\n",
    "small_post_covid = healthcare_returns_complete_df_filtered.loc[(healthcare_returns_complete_df_filtered['Market Cap Type'] == 'Small cap')]['Return from 2020-2022 (Post-Covid)']\n",
    "\n",
    "# Create figure and axes\n",
    "fig, ax = plt.subplots(figsize=(12, 9))\n",
    "\n",
    "# defining properties for boxes, whiskers, caps, and fliers\n",
    "boxprops = dict(linestyle='-', linewidth=1, color='blue', facecolor='lightblue') \n",
    "whiskerprops = dict(linestyle='-', linewidth=1, color='darkgoldenrod') \n",
    "capprops = dict(linestyle='-', linewidth=1, color='orange') \n",
    "flierprops = dict(marker='o', markerfacecolor='orange', markersize=5, linestyle='none')\n",
    "\n",
    "# Add boxplots. The positions parameter specifies the x-coordinates of the boxes.\n",
    "boxplot = ax.boxplot([large_pre_covid.dropna(),\n",
    "            large_post_covid.dropna(),\n",
    "            \n",
    "            mid_pre_covid.dropna(), \n",
    "            mid_post_covid.dropna(),\n",
    "            \n",
    "            small_pre_covid.dropna(), \n",
    "            small_post_covid.dropna()],\n",
    "                \n",
    "            positions=[1, 2, 4, 5, 7, 8],\n",
    "            \n",
    "            patch_artist=True,\n",
    "            boxprops=boxprops, \n",
    "            whiskerprops=whiskerprops, \n",
    "            capprops=capprops, \n",
    "            flierprops=flierprops)\n",
    "\n",
    "    \n",
    "# x-axis labels\n",
    "ax.set_xticklabels(['Large Pre', 'Large Post', 'Mid Pre', 'Mid Post', 'Small Pre', 'Small Post'])\n",
    "\n",
    "# y-axis label\n",
    "ax.set_ylabel('Return %')\n",
    "\n",
    "ax.set_title('Healthcare Returns by Market Cap')\n",
    "\n",
    "# Show the plot\n",
    "plt.show()"
   ]
  },
  {
   "cell_type": "code",
   "execution_count": null,
   "metadata": {},
   "outputs": [],
   "source": []
  }
 ],
 "metadata": {
  "kernelspec": {
   "display_name": "dev",
   "language": "python",
   "name": "python3"
  },
  "language_info": {
   "codemirror_mode": {
    "name": "ipython",
    "version": 3
   },
   "file_extension": ".py",
   "mimetype": "text/x-python",
   "name": "python",
   "nbconvert_exporter": "python",
   "pygments_lexer": "ipython3",
   "version": "3.10.11"
  },
  "orig_nbformat": 4
 },
 "nbformat": 4,
 "nbformat_minor": 2
}
