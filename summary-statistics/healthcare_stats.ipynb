{
 "cells": [
  {
   "cell_type": "code",
   "execution_count": 1,
   "metadata": {},
   "outputs": [],
   "source": [
    "# import modules\n",
    "\n",
    "import pandas as pd\n",
    "import matplotlib.pyplot as plt\n",
    "import scipy.stats as st\n",
    "import numpy as np\n"
   ]
  },
  {
   "cell_type": "code",
   "execution_count": 2,
   "metadata": {},
   "outputs": [
    {
     "data": {
      "text/html": [
       "<div>\n",
       "<style scoped>\n",
       "    .dataframe tbody tr th:only-of-type {\n",
       "        vertical-align: middle;\n",
       "    }\n",
       "\n",
       "    .dataframe tbody tr th {\n",
       "        vertical-align: top;\n",
       "    }\n",
       "\n",
       "    .dataframe thead th {\n",
       "        text-align: right;\n",
       "    }\n",
       "</style>\n",
       "<table border=\"1\" class=\"dataframe\">\n",
       "  <thead>\n",
       "    <tr style=\"text-align: right;\">\n",
       "      <th></th>\n",
       "      <th>Unnamed: 0</th>\n",
       "      <th>Symbol</th>\n",
       "      <th>GICS sector</th>\n",
       "      <th>Market Cap Type</th>\n",
       "      <th>Market Cap</th>\n",
       "      <th>Average Volume</th>\n",
       "      <th>Return from 2017-2019 (Pre-Covid)</th>\n",
       "      <th>Return from 2020-2022 (Post-Covid)</th>\n",
       "    </tr>\n",
       "  </thead>\n",
       "  <tbody>\n",
       "    <tr>\n",
       "      <th>0</th>\n",
       "      <td>0</td>\n",
       "      <td>NVO</td>\n",
       "      <td>Health Care</td>\n",
       "      <td>Large cap</td>\n",
       "      <td>260652723120</td>\n",
       "      <td>1565762</td>\n",
       "      <td>59.343087</td>\n",
       "      <td>132.104259</td>\n",
       "    </tr>\n",
       "    <tr>\n",
       "      <th>1</th>\n",
       "      <td>1</td>\n",
       "      <td>REGN</td>\n",
       "      <td>Health Care</td>\n",
       "      <td>Large cap</td>\n",
       "      <td>86238124754</td>\n",
       "      <td>637527</td>\n",
       "      <td>0.771226</td>\n",
       "      <td>90.870368</td>\n",
       "    </tr>\n",
       "    <tr>\n",
       "      <th>2</th>\n",
       "      <td>2</td>\n",
       "      <td>VRTX</td>\n",
       "      <td>Health Care</td>\n",
       "      <td>Large cap</td>\n",
       "      <td>78348616645</td>\n",
       "      <td>1110826</td>\n",
       "      <td>194.195889</td>\n",
       "      <td>31.120592</td>\n",
       "    </tr>\n",
       "    <tr>\n",
       "      <th>3</th>\n",
       "      <td>3</td>\n",
       "      <td>SGEN</td>\n",
       "      <td>Health Care</td>\n",
       "      <td>Large cap</td>\n",
       "      <td>37002973603</td>\n",
       "      <td>1468401</td>\n",
       "      <td>114.216058</td>\n",
       "      <td>13.035440</td>\n",
       "    </tr>\n",
       "    <tr>\n",
       "      <th>4</th>\n",
       "      <td>4</td>\n",
       "      <td>BNTX</td>\n",
       "      <td>Health Care</td>\n",
       "      <td>Large cap</td>\n",
       "      <td>31469610717</td>\n",
       "      <td>637153</td>\n",
       "      <td>111.575757</td>\n",
       "      <td>320.195808</td>\n",
       "    </tr>\n",
       "  </tbody>\n",
       "</table>\n",
       "</div>"
      ],
      "text/plain": [
       "   Unnamed: 0 Symbol  GICS sector Market Cap Type    Market Cap  \\\n",
       "0           0    NVO  Health Care       Large cap  260652723120   \n",
       "1           1   REGN  Health Care       Large cap   86238124754   \n",
       "2           2   VRTX  Health Care       Large cap   78348616645   \n",
       "3           3   SGEN  Health Care       Large cap   37002973603   \n",
       "4           4   BNTX  Health Care       Large cap   31469610717   \n",
       "\n",
       "   Average Volume  Return from 2017-2019 (Pre-Covid)  \\\n",
       "0         1565762                          59.343087   \n",
       "1          637527                           0.771226   \n",
       "2         1110826                         194.195889   \n",
       "3         1468401                         114.216058   \n",
       "4          637153                         111.575757   \n",
       "\n",
       "   Return from 2020-2022 (Post-Covid)  \n",
       "0                          132.104259  \n",
       "1                           90.870368  \n",
       "2                           31.120592  \n",
       "3                           13.035440  \n",
       "4                          320.195808  "
      ]
     },
     "execution_count": 2,
     "metadata": {},
     "output_type": "execute_result"
    }
   ],
   "source": [
    "# reading the csv\n",
    "\n",
    "healthcare_returns_complete_df = pd.read_csv('../Resources//healthcare_returns_complete.csv')\n",
    "healthcare_returns_complete_df.head()\n",
    "\n"
   ]
  },
  {
   "cell_type": "code",
   "execution_count": 3,
   "metadata": {},
   "outputs": [],
   "source": [
    "# making pre and post covid variables for summary statistics\n",
    "\n",
    "pre_returns = healthcare_returns_complete_df['Return from 2017-2019 (Pre-Covid)']\n",
    "post_returns = healthcare_returns_complete_df['Return from 2020-2022 (Post-Covid)']\n"
   ]
  },
  {
   "cell_type": "markdown",
   "metadata": {},
   "source": [
    "Mean, Median, Std dev, Variance, Quartiles of all Healthcare Stocks \n",
    "(Pre and Post-Covid)"
   ]
  },
  {
   "cell_type": "code",
   "execution_count": 4,
   "metadata": {},
   "outputs": [
    {
     "name": "stdout",
     "output_type": "stream",
     "text": [
      "The mean returns of healthcare stocks pre-covid is 45.78\n",
      "The median of returns of healthcare stocks pre-covid is -7.39\n",
      "The standard deviation of returns of healthcare stocks pre-covid is 267.67\n",
      "The variance of returns of healthcare stocks pre-covid is 71648.54\n",
      "Pre-Covid Returns Quartiles: Lower = -69.69, Mid = -7.39, Lower = 67.27\n"
     ]
    }
   ],
   "source": [
    "# calculating measures of central tendencies pre-covid\n",
    "\n",
    "mean_numpy = np.mean(pre_returns)\n",
    "print(f\"The mean returns of healthcare stocks pre-covid is {mean_numpy:.2f}\")\n",
    "\n",
    "median_numpy = np.median(pre_returns)\n",
    "print(f\"The median of returns of healthcare stocks pre-covid is {median_numpy:.2f}\")\n",
    "\n",
    "std_dev_numpy = np.std(pre_returns)\n",
    "print(f\"The standard deviation of returns of healthcare stocks pre-covid is {std_dev_numpy:.2f}\")\n",
    "\n",
    "variance_numpy = np.var(pre_returns)\n",
    "print(f\"The variance of returns of healthcare stocks pre-covid is {variance_numpy:.2f}\")\n",
    "\n",
    "# calculating quartiles for pre-covid returns\n",
    "Q1_pre_covid = healthcare_returns_complete_df['Return from 2017-2019 (Pre-Covid)'].quantile(0.25)\n",
    "Q2_pre_covid = healthcare_returns_complete_df['Return from 2017-2019 (Pre-Covid)'].quantile(0.5)\n",
    "Q3_pre_covid = healthcare_returns_complete_df['Return from 2017-2019 (Pre-Covid)'].quantile(0.75)\n",
    "print(f\"Pre-Covid Returns Quartiles: Lower = {Q1_pre_covid:.2f}, Mid = {Q2_pre_covid:.2f}, Lower = {Q3_pre_covid:.2f}\")\n",
    "\n"
   ]
  },
  {
   "cell_type": "code",
   "execution_count": 5,
   "metadata": {},
   "outputs": [
    {
     "data": {
      "text/html": [
       "<div>\n",
       "<style scoped>\n",
       "    .dataframe tbody tr th:only-of-type {\n",
       "        vertical-align: middle;\n",
       "    }\n",
       "\n",
       "    .dataframe tbody tr th {\n",
       "        vertical-align: top;\n",
       "    }\n",
       "\n",
       "    .dataframe thead th {\n",
       "        text-align: right;\n",
       "    }\n",
       "</style>\n",
       "<table border=\"1\" class=\"dataframe\">\n",
       "  <thead>\n",
       "    <tr style=\"text-align: right;\">\n",
       "      <th></th>\n",
       "      <th>Summary Statistics for Returns of Healthcare Stocks, Pre-Covid</th>\n",
       "    </tr>\n",
       "  </thead>\n",
       "  <tbody>\n",
       "    <tr>\n",
       "      <th>Mean</th>\n",
       "      <td>45.78</td>\n",
       "    </tr>\n",
       "    <tr>\n",
       "      <th>Median</th>\n",
       "      <td>-7.39</td>\n",
       "    </tr>\n",
       "    <tr>\n",
       "      <th>Standard Deviation</th>\n",
       "      <td>267.67</td>\n",
       "    </tr>\n",
       "    <tr>\n",
       "      <th>Variance</th>\n",
       "      <td>71648.54</td>\n",
       "    </tr>\n",
       "  </tbody>\n",
       "</table>\n",
       "</div>"
      ],
      "text/plain": [
       "                    Summary Statistics for Returns of Healthcare Stocks, Pre-Covid\n",
       "Mean                                                            45.78             \n",
       "Median                                                          -7.39             \n",
       "Standard Deviation                                             267.67             \n",
       "Variance                                                     71648.54             "
      ]
     },
     "execution_count": 5,
     "metadata": {},
     "output_type": "execute_result"
    }
   ],
   "source": [
    "precovid_summary = [round(mean_numpy,2),\n",
    "                            round(median_numpy,2),\n",
    "                            round(std_dev_numpy,2),\n",
    "                            round(variance_numpy,2)]\n",
    "precovid_summary_table = pd.DataFrame({\"Summary Statistics for Returns of Healthcare Stocks, Pre-Covid\": precovid_summary}, index = [\"Mean\",\"Median\",\"Standard Deviation\", \"Variance\"])\n",
    "\n",
    "precovid_summary_table\n"
   ]
  },
  {
   "cell_type": "code",
   "execution_count": 6,
   "metadata": {},
   "outputs": [
    {
     "name": "stdout",
     "output_type": "stream",
     "text": [
      "The mean returns of healthcare stocks post-covid is -16.37\n",
      "The median of returns of healthcare stocks post-covid is -53.11\n",
      "The standard deviation of returns of healthcare stocks post-covid is 121.20\n",
      "The variance of returns of healthcare stocks post-covid is 14688.63\n",
      "Post-Covid Returns Quartiles: Q1=-84.63, Q2=-53.11, Q3=13.02\n"
     ]
    }
   ],
   "source": [
    "# calculating measures of central tendencies post-covid\n",
    "\n",
    "mean_numpy = np.mean(post_returns)\n",
    "print(f\"The mean returns of healthcare stocks post-covid is {mean_numpy:.2f}\")\n",
    "\n",
    "median_numpy = np.median(post_returns)\n",
    "print(f\"The median of returns of healthcare stocks post-covid is {median_numpy:.2f}\")\n",
    "\n",
    "std_dev_numpy = np.std(post_returns)\n",
    "print(f\"The standard deviation of returns of healthcare stocks post-covid is {std_dev_numpy:.2f}\")\n",
    "\n",
    "variance_numpy = np.var(post_returns)\n",
    "print(f\"The variance of returns of healthcare stocks post-covid is {variance_numpy:.2f}\")\n",
    "\n",
    "# calculating quartiles for post-covid returns\n",
    "\n",
    "Q1_post_covid = healthcare_returns_complete_df['Return from 2020-2022 (Post-Covid)'].quantile(0.25)\n",
    "Q2_post_covid = healthcare_returns_complete_df['Return from 2020-2022 (Post-Covid)'].quantile(0.5)\n",
    "Q3_post_covid = healthcare_returns_complete_df['Return from 2020-2022 (Post-Covid)'].quantile(0.75)\n",
    "print(f\"Post-Covid Returns Quartiles: Q1={Q1_post_covid:.2f}, Q2={Q2_post_covid:.2f}, Q3={Q3_post_covid:.2f}\")\n"
   ]
  },
  {
   "cell_type": "code",
   "execution_count": 7,
   "metadata": {},
   "outputs": [
    {
     "data": {
      "text/html": [
       "<div>\n",
       "<style scoped>\n",
       "    .dataframe tbody tr th:only-of-type {\n",
       "        vertical-align: middle;\n",
       "    }\n",
       "\n",
       "    .dataframe tbody tr th {\n",
       "        vertical-align: top;\n",
       "    }\n",
       "\n",
       "    .dataframe thead th {\n",
       "        text-align: right;\n",
       "    }\n",
       "</style>\n",
       "<table border=\"1\" class=\"dataframe\">\n",
       "  <thead>\n",
       "    <tr style=\"text-align: right;\">\n",
       "      <th></th>\n",
       "      <th>Summary Statistics for Returns of Healthcare Stocks, Post-Covid</th>\n",
       "    </tr>\n",
       "  </thead>\n",
       "  <tbody>\n",
       "    <tr>\n",
       "      <th>Mean</th>\n",
       "      <td>-16.37</td>\n",
       "    </tr>\n",
       "    <tr>\n",
       "      <th>Median</th>\n",
       "      <td>-53.11</td>\n",
       "    </tr>\n",
       "    <tr>\n",
       "      <th>Standard Deviation</th>\n",
       "      <td>121.20</td>\n",
       "    </tr>\n",
       "    <tr>\n",
       "      <th>Variance</th>\n",
       "      <td>14688.63</td>\n",
       "    </tr>\n",
       "  </tbody>\n",
       "</table>\n",
       "</div>"
      ],
      "text/plain": [
       "                    Summary Statistics for Returns of Healthcare Stocks, Post-Covid\n",
       "Mean                                                           -16.37              \n",
       "Median                                                         -53.11              \n",
       "Standard Deviation                                             121.20              \n",
       "Variance                                                     14688.63              "
      ]
     },
     "execution_count": 7,
     "metadata": {},
     "output_type": "execute_result"
    }
   ],
   "source": [
    "postcovid_summary = [round(mean_numpy,2),\n",
    "                            round(median_numpy,2),\n",
    "                            round(std_dev_numpy,2),\n",
    "                            round(variance_numpy,2)]\n",
    "postcovid_summary_table = pd.DataFrame({\"Summary Statistics for Returns of Healthcare Stocks, Post-Covid\": postcovid_summary}, index = [\"Mean\",\"Median\",\"Standard Deviation\", \"Variance\"])\n",
    "\n",
    "postcovid_summary_table\n"
   ]
  },
  {
   "cell_type": "markdown",
   "metadata": {},
   "source": [
    "Mean, Median, Std dev, Variance, Quartiles of large cap Healthcare Stocks \n",
    "(Pre and Post-Covid)"
   ]
  },
  {
   "cell_type": "code",
   "execution_count": 8,
   "metadata": {},
   "outputs": [],
   "source": [
    "# Filter for large cap stocks\n",
    "\n",
    "large_cap_healthcare = healthcare_returns_complete_df[healthcare_returns_complete_df['Market Cap Type'] == 'Large cap']"
   ]
  },
  {
   "cell_type": "code",
   "execution_count": 10,
   "metadata": {},
   "outputs": [
    {
     "name": "stdout",
     "output_type": "stream",
     "text": [
      "The mean returns of large cap healthcare stocks pre-covid is 100.76\n",
      "The median returns of large cap healthcare stocks pre-covid is 81.47\n",
      "The standard deviation of returns of large cap healthcare stocks pre-covid is 129.14\n",
      "The variance of returns of large cap healthcare stocks pre-covid is 16675.96\n",
      "Post-Covid Returns Quartiles for Large Caps: Lower = 22.53, Mid = 81.47, Upper = 124.94\n"
     ]
    }
   ],
   "source": [
    "# Calculate statistics for pre-covid returns\n",
    "\n",
    "mean_pre_covid_large = large_cap_healthcare['Return from 2017-2019 (Pre-Covid)'].mean()\n",
    "print(f\"The mean returns of large cap healthcare stocks pre-covid is {mean_pre_covid_large:.2f}\")\n",
    "\n",
    "median_pre_covid_large = large_cap_healthcare['Return from 2017-2019 (Pre-Covid)'].median()\n",
    "print(f\"The median returns of large cap healthcare stocks pre-covid is {median_pre_covid_large:.2f}\")\n",
    "\n",
    "std_pre_covid_large = large_cap_healthcare['Return from 2017-2019 (Pre-Covid)'].std()\n",
    "print(f\"The standard deviation of returns of large cap healthcare stocks pre-covid is {std_pre_covid_large:.2f}\")\n",
    "\n",
    "var_pre_covid_large = large_cap_healthcare['Return from 2017-2019 (Pre-Covid)'].var()\n",
    "print(f\"The variance of returns of large cap healthcare stocks pre-covid is {var_pre_covid_large:.2f}\")\n",
    "\n",
    "Q1_pre_covid_large = large_cap_healthcare['Return from 2017-2019 (Pre-Covid)'].quantile(0.25)\n",
    "Q2_pre_covid_large = large_cap_healthcare['Return from 2017-2019 (Pre-Covid)'].quantile(0.5)\n",
    "Q3_pre_covid_large = large_cap_healthcare['Return from 2017-2019 (Pre-Covid)'].quantile(0.75)\n",
    "print(f\"Post-Covid Returns Quartiles for Large Caps: Lower = {Q1_pre_covid_large:.2f}, Mid = {Q2_pre_covid_large:.2f}, Upper = {Q3_pre_covid_large:.2f}\")\n"
   ]
  },
  {
   "cell_type": "code",
   "execution_count": 15,
   "metadata": {
    "scrolled": true
   },
   "outputs": [
    {
     "data": {
      "text/html": [
       "<div>\n",
       "<style scoped>\n",
       "    .dataframe tbody tr th:only-of-type {\n",
       "        vertical-align: middle;\n",
       "    }\n",
       "\n",
       "    .dataframe tbody tr th {\n",
       "        vertical-align: top;\n",
       "    }\n",
       "\n",
       "    .dataframe thead th {\n",
       "        text-align: right;\n",
       "    }\n",
       "</style>\n",
       "<table border=\"1\" class=\"dataframe\">\n",
       "  <thead>\n",
       "    <tr style=\"text-align: right;\">\n",
       "      <th></th>\n",
       "      <th>Summary Statistics for Returns of Large Cap Healthcare Stocks, Pre-Covid</th>\n",
       "    </tr>\n",
       "  </thead>\n",
       "  <tbody>\n",
       "    <tr>\n",
       "      <th>Mean</th>\n",
       "      <td>100.76</td>\n",
       "    </tr>\n",
       "    <tr>\n",
       "      <th>Median</th>\n",
       "      <td>81.47</td>\n",
       "    </tr>\n",
       "    <tr>\n",
       "      <th>Standard Deviation</th>\n",
       "      <td>129.14</td>\n",
       "    </tr>\n",
       "    <tr>\n",
       "      <th>Variance</th>\n",
       "      <td>16675.96</td>\n",
       "    </tr>\n",
       "  </tbody>\n",
       "</table>\n",
       "</div>"
      ],
      "text/plain": [
       "                    Summary Statistics for Returns of Large Cap Healthcare Stocks, Pre-Covid\n",
       "Mean                                                           100.76                       \n",
       "Median                                                          81.47                       \n",
       "Standard Deviation                                             129.14                       \n",
       "Variance                                                     16675.96                       "
      ]
     },
     "execution_count": 15,
     "metadata": {},
     "output_type": "execute_result"
    }
   ],
   "source": [
    "pre_large_summary = [round(mean_pre_covid_large,2),\n",
    "                            round(median_pre_covid_large,2),\n",
    "                            round(std_pre_covid_large,2),\n",
    "                            round(var_pre_covid_large,2)]\n",
    "pre_large_summary_table = pd.DataFrame({\"Summary Statistics for Returns of Large Cap Healthcare Stocks, Pre-Covid\": pre_large_summary}, index = [\"Mean\",\"Median\",\"Standard Deviation\", \"Variance\"])\n",
    "\n",
    "pre_large_summary_table\n"
   ]
  },
  {
   "cell_type": "code",
   "execution_count": 13,
   "metadata": {},
   "outputs": [
    {
     "name": "stdout",
     "output_type": "stream",
     "text": [
      "The mean returns of large cap healthcare stocks post-covid is 50.23\n",
      "The median returns of large cap healthcare stocks post-covid is 31.06\n",
      "The standard deviation of returns of large cap healthcare stocks post-covid is 106.96\n",
      "The variance of returns of large cap healthcare stocks post-covid is 11439.45\n",
      "Post-Covid Returns Quartiles for Large Caps: Lower = 1.85, Mid = 31.06, Upper = 67.18\n"
     ]
    }
   ],
   "source": [
    "# Calculate statistics for post-covid returns\n",
    "\n",
    "mean_post_covid_large = large_cap_healthcare['Return from 2020-2022 (Post-Covid)'].mean()\n",
    "print(f\"The mean returns of large cap healthcare stocks post-covid is {mean_post_covid_large:.2f}\")\n",
    "\n",
    "median_post_covid_large = large_cap_healthcare['Return from 2020-2022 (Post-Covid)'].median()\n",
    "print(f\"The median returns of large cap healthcare stocks post-covid is {median_post_covid_large:.2f}\")\n",
    "\n",
    "std_post_covid_large = large_cap_healthcare['Return from 2020-2022 (Post-Covid)'].std()\n",
    "print(f\"The standard deviation of returns of large cap healthcare stocks post-covid is {std_post_covid_large:.2f}\")\n",
    "\n",
    "var_post_covid_large = large_cap_healthcare['Return from 2020-2022 (Post-Covid)'].var()\n",
    "print(f\"The variance of returns of large cap healthcare stocks post-covid is {var_post_covid_large:.2f}\")\n",
    "\n",
    "Q1_post_covid_large = large_cap_healthcare['Return from 2020-2022 (Post-Covid)'].quantile(0.25)\n",
    "Q2_post_covid_large = large_cap_healthcare['Return from 2020-2022 (Post-Covid)'].quantile(0.5)\n",
    "Q3_post_covid_large = large_cap_healthcare['Return from 2020-2022 (Post-Covid)'].quantile(0.75)\n",
    "print(f\"Post-Covid Returns Quartiles for Large Caps: Lower = {Q1_post_covid_large:.2f}, Mid = {Q2_post_covid_large:.2f}, Upper = {Q3_post_covid_large:.2f}\")"
   ]
  },
  {
   "cell_type": "code",
   "execution_count": 16,
   "metadata": {},
   "outputs": [
    {
     "data": {
      "text/html": [
       "<div>\n",
       "<style scoped>\n",
       "    .dataframe tbody tr th:only-of-type {\n",
       "        vertical-align: middle;\n",
       "    }\n",
       "\n",
       "    .dataframe tbody tr th {\n",
       "        vertical-align: top;\n",
       "    }\n",
       "\n",
       "    .dataframe thead th {\n",
       "        text-align: right;\n",
       "    }\n",
       "</style>\n",
       "<table border=\"1\" class=\"dataframe\">\n",
       "  <thead>\n",
       "    <tr style=\"text-align: right;\">\n",
       "      <th></th>\n",
       "      <th>Summary Statistics for Returns of Large Cap Healthcare Stocks, Post-Covid</th>\n",
       "    </tr>\n",
       "  </thead>\n",
       "  <tbody>\n",
       "    <tr>\n",
       "      <th>Mean</th>\n",
       "      <td>50.23</td>\n",
       "    </tr>\n",
       "    <tr>\n",
       "      <th>Median</th>\n",
       "      <td>31.06</td>\n",
       "    </tr>\n",
       "    <tr>\n",
       "      <th>Standard Deviation</th>\n",
       "      <td>106.96</td>\n",
       "    </tr>\n",
       "    <tr>\n",
       "      <th>Variance</th>\n",
       "      <td>11439.45</td>\n",
       "    </tr>\n",
       "  </tbody>\n",
       "</table>\n",
       "</div>"
      ],
      "text/plain": [
       "                    Summary Statistics for Returns of Large Cap Healthcare Stocks, Post-Covid\n",
       "Mean                                                            50.23                        \n",
       "Median                                                          31.06                        \n",
       "Standard Deviation                                             106.96                        \n",
       "Variance                                                     11439.45                        "
      ]
     },
     "execution_count": 16,
     "metadata": {},
     "output_type": "execute_result"
    }
   ],
   "source": [
    "post_large_summary = [round(mean_post_covid_large,2),\n",
    "                            round(median_post_covid_large,2),\n",
    "                            round(std_post_covid_large,2),\n",
    "                            round(var_post_covid_large,2)]\n",
    "post_large_summary_table = pd.DataFrame({\"Summary Statistics for Returns of Large Cap Healthcare Stocks, Post-Covid\": post_large_summary}, index = [\"Mean\",\"Median\",\"Standard Deviation\", \"Variance\"])\n",
    "\n",
    "post_large_summary_table"
   ]
  },
  {
   "cell_type": "code",
   "execution_count": 35,
   "metadata": {},
   "outputs": [
    {
     "data": {
      "image/png": "[encoded data removed]",
      "text/plain": [
       "<Figure size 1200x900 with 1 Axes>"
      ]
     },
     "metadata": {},
     "output_type": "display_data"
    }
   ],
   "source": [
    "#creating a box plot foe pre and post covid returns\n",
    "large_pre_covid =large_cap_healthcare.loc[(large_cap_healthcare['Market Cap Type'] == 'Large cap')]['Return from 2017-2019 (Pre-Covid)']\n",
    "large_post_covid = large_cap_healthcare.loc[(large_cap_healthcare['Market Cap Type'] == 'Large cap')]['Return from 2020-2022 (Post-Covid)']\n",
    "fig, ax = plt.subplots(figsize=(12, 9))\n",
    "\n",
    "# defining properties for boxes, whiskers, caps, and fliers\n",
    "boxprops = dict(linestyle='-', linewidth=1, color='midnightblue', facecolor='midnightblue') \n",
    "whiskerprops = dict(linestyle='-', linewidth=1, color='midnightblue') \n",
    "capprops = dict(linestyle='-', linewidth=1, color='midnightblue') \n",
    "flierprops = dict(marker='o', markerfacecolor='darkorange', markersize=10, linestyle='none',markeredgecolor='saddlebrown' )\n",
    "\n",
    "\n",
    "boxplot = ax.boxplot([large_pre_covid.dropna(),\n",
    "            large_post_covid.dropna()],\n",
    "                \n",
    "            positions=[1, 2],\n",
    "            \n",
    "            patch_artist=True,\n",
    "            boxprops=boxprops, \n",
    "            whiskerprops=whiskerprops, \n",
    "            capprops=capprops, \n",
    "            flierprops=flierprops)\n",
    "                      \n",
    "ax.set_xticklabels(['Large pre', 'Large post'])\n",
    "\n",
    "# y-axis label\n",
    "ax.set_ylabel('Return %')\n",
    "\n",
    "plt.savefig('healthcare_boxplot_largecap.png')\n",
    "\n",
    "# Show the plot\n",
    "plt.show()"
   ]
  },
  {
   "cell_type": "code",
   "execution_count": 52,
   "metadata": {},
   "outputs": [],
   "source": [
    "# Filter for mid cap stocks\n",
    "\n",
    "mid_cap_healthcare = healthcare_returns_complete_df[healthcare_returns_complete_df['Market Cap Type'] == 'Mid cap']"
   ]
  },
  {
   "cell_type": "code",
   "execution_count": 53,
   "metadata": {},
   "outputs": [
    {
     "name": "stdout",
     "output_type": "stream",
     "text": [
      "The mean returns of mid cap healthcare stocks pre-covid is 191.41\n",
      "The median returns of mid cap healthcare stocks pre-covid is 76.71\n",
      "The standard deviation of returns of mid cap healthcare stocks pre-covid is 502.70\n",
      "The variance of returns of mid cap healthcare stocks pre-covid is 252708.87\n",
      "Post-Covid Returns Quartiles for Mid Caps: Lower = 16.41, Mid = 76.71, Upper = 178.51\n"
     ]
    }
   ],
   "source": [
    "# Calculate statistics for pre-covid returns\n",
    "\n",
    "mean_pre_covid_mid = mid_cap_healthcare['Return from 2017-2019 (Pre-Covid)'].mean()\n",
    "print(f\"The mean returns of mid cap healthcare stocks pre-covid is {mean_pre_covid_mid:.2f}\")\n",
    "\n",
    "median_pre_covid_mid = mid_cap_healthcare['Return from 2017-2019 (Pre-Covid)'].median()\n",
    "print(f\"The median returns of mid cap healthcare stocks pre-covid is {median_pre_covid_mid:.2f}\")\n",
    "\n",
    "std_pre_covid_mid = mid_cap_healthcare['Return from 2017-2019 (Pre-Covid)'].std()\n",
    "print(f\"The standard deviation of returns of mid cap healthcare stocks pre-covid is {std_pre_covid_mid:.2f}\")\n",
    "\n",
    "var_pre_covid_mid = mid_cap_healthcare['Return from 2017-2019 (Pre-Covid)'].var()\n",
    "print(f\"The variance of returns of mid cap healthcare stocks pre-covid is {var_pre_covid_mid:.2f}\")\n",
    "\n",
    "Q1_pre_covid_mid = mid_cap_healthcare['Return from 2017-2019 (Pre-Covid)'].quantile(0.25)\n",
    "Q2_pre_covid_mid = mid_cap_healthcare['Return from 2017-2019 (Pre-Covid)'].quantile(0.5)\n",
    "Q3_pre_covid_mid = mid_cap_healthcare['Return from 2017-2019 (Pre-Covid)'].quantile(0.75)\n",
    "print(f\"Post-Covid Returns Quartiles for Mid Caps: Lower = {Q1_pre_covid_mid:.2f}, Mid = {Q2_pre_covid_mid:.2f}, Upper = {Q3_pre_covid_mid:.2f}\")"
   ]
  },
  {
   "cell_type": "code",
   "execution_count": 54,
   "metadata": {},
   "outputs": [
    {
     "data": {
      "text/html": [
       "<div>\n",
       "<style scoped>\n",
       "    .dataframe tbody tr th:only-of-type {\n",
       "        vertical-align: middle;\n",
       "    }\n",
       "\n",
       "    .dataframe tbody tr th {\n",
       "        vertical-align: top;\n",
       "    }\n",
       "\n",
       "    .dataframe thead th {\n",
       "        text-align: right;\n",
       "    }\n",
       "</style>\n",
       "<table border=\"1\" class=\"dataframe\">\n",
       "  <thead>\n",
       "    <tr style=\"text-align: right;\">\n",
       "      <th></th>\n",
       "      <th>Summary Statistics for Returns of Mid Cap Healthcare Stocks, Pre-Covid</th>\n",
       "    </tr>\n",
       "  </thead>\n",
       "  <tbody>\n",
       "    <tr>\n",
       "      <th>Mean</th>\n",
       "      <td>191.41</td>\n",
       "    </tr>\n",
       "    <tr>\n",
       "      <th>Median</th>\n",
       "      <td>76.71</td>\n",
       "    </tr>\n",
       "    <tr>\n",
       "      <th>Standard Deviation</th>\n",
       "      <td>502.70</td>\n",
       "    </tr>\n",
       "    <tr>\n",
       "      <th>Variance</th>\n",
       "      <td>252708.87</td>\n",
       "    </tr>\n",
       "  </tbody>\n",
       "</table>\n",
       "</div>"
      ],
      "text/plain": [
       "                    Summary Statistics for Returns of Mid Cap Healthcare Stocks, Pre-Covid\n",
       "Mean                                                           191.41                     \n",
       "Median                                                          76.71                     \n",
       "Standard Deviation                                             502.70                     \n",
       "Variance                                                    252708.87                     "
      ]
     },
     "execution_count": 54,
     "metadata": {},
     "output_type": "execute_result"
    }
   ],
   "source": [
    "pre_mid_summary = [round(mean_pre_covid_mid,2),\n",
    "                            round(median_pre_covid_mid,2),\n",
    "                            round(std_pre_covid_mid,2),\n",
    "                            round(var_pre_covid_mid,2)]\n",
    "pre_mid_summary_table = pd.DataFrame({\"Summary Statistics for Returns of Mid Cap Healthcare Stocks, Pre-Covid\": pre_mid_summary}, index = [\"Mean\",\"Median\",\"Standard Deviation\", \"Variance\"])\n",
    "\n",
    "pre_mid_summary_table"
   ]
  },
  {
   "cell_type": "code",
   "execution_count": 56,
   "metadata": {},
   "outputs": [
    {
     "data": {
      "text/html": [
       "<div>\n",
       "<style scoped>\n",
       "    .dataframe tbody tr th:only-of-type {\n",
       "        vertical-align: middle;\n",
       "    }\n",
       "\n",
       "    .dataframe tbody tr th {\n",
       "        vertical-align: top;\n",
       "    }\n",
       "\n",
       "    .dataframe thead th {\n",
       "        text-align: right;\n",
       "    }\n",
       "</style>\n",
       "<table border=\"1\" class=\"dataframe\">\n",
       "  <thead>\n",
       "    <tr style=\"text-align: right;\">\n",
       "      <th></th>\n",
       "      <th>Summary Statistics for Returns of Mid Cap Healthcare Stocks, Post-Covid</th>\n",
       "    </tr>\n",
       "  </thead>\n",
       "  <tbody>\n",
       "    <tr>\n",
       "      <th>Mean</th>\n",
       "      <td>31.91</td>\n",
       "    </tr>\n",
       "    <tr>\n",
       "      <th>Median</th>\n",
       "      <td>7.30</td>\n",
       "    </tr>\n",
       "    <tr>\n",
       "      <th>Standard Deviation</th>\n",
       "      <td>92.79</td>\n",
       "    </tr>\n",
       "    <tr>\n",
       "      <th>Variance</th>\n",
       "      <td>8609.28</td>\n",
       "    </tr>\n",
       "  </tbody>\n",
       "</table>\n",
       "</div>"
      ],
      "text/plain": [
       "                    Summary Statistics for Returns of Mid Cap Healthcare Stocks, Post-Covid\n",
       "Mean                                                            31.91                      \n",
       "Median                                                           7.30                      \n",
       "Standard Deviation                                              92.79                      \n",
       "Variance                                                      8609.28                      "
      ]
     },
     "execution_count": 56,
     "metadata": {},
     "output_type": "execute_result"
    }
   ],
   "source": [
    "post_mid_summary = [round(mean_post_covid_mid,2),\n",
    "                            round(median_post_covid_mid,2),\n",
    "                            round(std_post_covid_mid,2),\n",
    "                            round(var_post_covid_mid,2)]\n",
    "post_mid_summary_table = pd.DataFrame({\"Summary Statistics for Returns of Mid Cap Healthcare Stocks, Post-Covid\": post_mid_summary}, index = [\"Mean\",\"Median\",\"Standard Deviation\", \"Variance\"])\n",
    "\n",
    "post_mid_summary_table"
   ]
  },
  {
   "cell_type": "code",
   "execution_count": 55,
   "metadata": {},
   "outputs": [
    {
     "name": "stdout",
     "output_type": "stream",
     "text": [
      "The mean returns of mid cap healthcare stocks post-covid is 31.91\n",
      "The median returns of mid cap healthcare stocks post-covid is 7.30\n",
      "The standard deviation of returns of mid cap healthcare stocks post-covid is 92.79\n",
      "The variance of returns of mid cap healthcare stocks post-covid is 8609.28\n",
      "Post-Covid Returns Quartiles for Mid Caps: Lower = -29.43, Mid = 7.30, Upper = 65.66\n"
     ]
    }
   ],
   "source": [
    "# Calculate statistics for post-covid returns\n",
    "\n",
    "mean_post_covid_mid = mid_cap_healthcare['Return from 2020-2022 (Post-Covid)'].mean()\n",
    "print(f\"The mean returns of mid cap healthcare stocks post-covid is {mean_post_covid_mid:.2f}\")\n",
    "\n",
    "median_post_covid_mid = mid_cap_healthcare['Return from 2020-2022 (Post-Covid)'].median()\n",
    "print(f\"The median returns of mid cap healthcare stocks post-covid is {median_post_covid_mid:.2f}\")\n",
    "\n",
    "std_post_covid_mid = mid_cap_healthcare['Return from 2020-2022 (Post-Covid)'].std()\n",
    "print(f\"The standard deviation of returns of mid cap healthcare stocks post-covid is {std_post_covid_mid:.2f}\")\n",
    "\n",
    "var_post_covid_mid = mid_cap_healthcare['Return from 2020-2022 (Post-Covid)'].var()\n",
    "print(f\"The variance of returns of mid cap healthcare stocks post-covid is {var_post_covid_mid:.2f}\")\n",
    "\n",
    "Q1_post_covid_mid = mid_cap_healthcare['Return from 2020-2022 (Post-Covid)'].quantile(0.25)\n",
    "Q2_post_covid_mid = mid_cap_healthcare['Return from 2020-2022 (Post-Covid)'].quantile(0.5)\n",
    "Q3_post_covid_mid = mid_cap_healthcare['Return from 2020-2022 (Post-Covid)'].quantile(0.75)\n",
    "print(f\"Post-Covid Returns Quartiles for Mid Caps: Lower = {Q1_post_covid_mid:.2f}, Mid = {Q2_post_covid_mid:.2f}, Upper = {Q3_post_covid_mid:.2f}\")"
   ]
  },
  {
   "cell_type": "code",
   "execution_count": 57,
   "metadata": {},
   "outputs": [],
   "source": [
    "# Filter for small cap stocks\n",
    "\n",
    "small_cap_healthcare = healthcare_returns_complete_df[healthcare_returns_complete_df['Market Cap Type'] == 'Small cap']"
   ]
  },
  {
   "cell_type": "code",
   "execution_count": 60,
   "metadata": {},
   "outputs": [
    {
     "name": "stdout",
     "output_type": "stream",
     "text": [
      "The mean returns of small cap healthcare stocks pre-covid is 71.88\n",
      "The median returns of small cap healthcare stocks pre-covid is 10.44\n",
      "The standard deviation of returns of small cap healthcare stocks pre-covid is 239.05\n",
      "The variance of returns of small cap healthcare stocks pre-covid is 57146.57\n",
      "Post-Covid Returns Quartiles for Small Caps: Lower = -26.75, Mid = 10.44, Upper = 67.40\n"
     ]
    }
   ],
   "source": [
    "# Calculate statistics for pre-covid returns\n",
    "\n",
    "mean_pre_covid_small = small_cap_healthcare['Return from 2017-2019 (Pre-Covid)'].mean()\n",
    "print(f\"The mean returns of small cap healthcare stocks pre-covid is {mean_pre_covid_small:.2f}\")\n",
    "\n",
    "median_pre_covid_small = small_cap_healthcare['Return from 2017-2019 (Pre-Covid)'].median()\n",
    "print(f\"The median returns of small cap healthcare stocks pre-covid is {median_pre_covid_small:.2f}\")\n",
    "\n",
    "std_pre_covid_small = small_cap_healthcare['Return from 2017-2019 (Pre-Covid)'].std()\n",
    "print(f\"The standard deviation of returns of small cap healthcare stocks pre-covid is {std_pre_covid_small:.2f}\")\n",
    "\n",
    "var_pre_covid_small = small_cap_healthcare['Return from 2017-2019 (Pre-Covid)'].var()\n",
    "print(f\"The variance of returns of small cap healthcare stocks pre-covid is {var_pre_covid_small:.2f}\")\n",
    "\n",
    "Q1_pre_covid_small = small_cap_healthcare['Return from 2017-2019 (Pre-Covid)'].quantile(0.25)\n",
    "Q2_pre_covid_small = small_cap_healthcare['Return from 2017-2019 (Pre-Covid)'].quantile(0.5)\n",
    "Q3_pre_covid_small = small_cap_healthcare['Return from 2017-2019 (Pre-Covid)'].quantile(0.75)\n",
    "print(f\"Post-Covid Returns Quartiles for Small Caps: Lower = {Q1_pre_covid_small:.2f}, Mid = {Q2_pre_covid_small:.2f}, Upper = {Q3_pre_covid_small:.2f}\")\n"
   ]
  },
  {
   "cell_type": "code",
   "execution_count": 61,
   "metadata": {},
   "outputs": [
    {
     "data": {
      "text/html": [
       "<div>\n",
       "<style scoped>\n",
       "    .dataframe tbody tr th:only-of-type {\n",
       "        vertical-align: middle;\n",
       "    }\n",
       "\n",
       "    .dataframe tbody tr th {\n",
       "        vertical-align: top;\n",
       "    }\n",
       "\n",
       "    .dataframe thead th {\n",
       "        text-align: right;\n",
       "    }\n",
       "</style>\n",
       "<table border=\"1\" class=\"dataframe\">\n",
       "  <thead>\n",
       "    <tr style=\"text-align: right;\">\n",
       "      <th></th>\n",
       "      <th>Summary Statistics for Returns of Small Cap Healthcare Stocks, Pre-Covid</th>\n",
       "    </tr>\n",
       "  </thead>\n",
       "  <tbody>\n",
       "    <tr>\n",
       "      <th>Mean</th>\n",
       "      <td>71.88</td>\n",
       "    </tr>\n",
       "    <tr>\n",
       "      <th>Median</th>\n",
       "      <td>10.44</td>\n",
       "    </tr>\n",
       "    <tr>\n",
       "      <th>Standard Deviation</th>\n",
       "      <td>239.05</td>\n",
       "    </tr>\n",
       "    <tr>\n",
       "      <th>Variance</th>\n",
       "      <td>57146.57</td>\n",
       "    </tr>\n",
       "  </tbody>\n",
       "</table>\n",
       "</div>"
      ],
      "text/plain": [
       "                    Summary Statistics for Returns of Small Cap Healthcare Stocks, Pre-Covid\n",
       "Mean                                                            71.88                       \n",
       "Median                                                          10.44                       \n",
       "Standard Deviation                                             239.05                       \n",
       "Variance                                                     57146.57                       "
      ]
     },
     "execution_count": 61,
     "metadata": {},
     "output_type": "execute_result"
    }
   ],
   "source": [
    "pre_small_summary = [round(mean_pre_covid_small,2),\n",
    "                            round(median_pre_covid_small,2),\n",
    "                            round(std_pre_covid_small,2),\n",
    "                            round(var_pre_covid_small,2)]\n",
    "pre_small_summary_table = pd.DataFrame({\"Summary Statistics for Returns of Small Cap Healthcare Stocks, Pre-Covid\": pre_small_summary}, index = [\"Mean\",\"Median\",\"Standard Deviation\", \"Variance\"])\n",
    "\n",
    "pre_small_summary_table"
   ]
  },
  {
   "cell_type": "code",
   "execution_count": 59,
   "metadata": {},
   "outputs": [
    {
     "name": "stdout",
     "output_type": "stream",
     "text": [
      "The mean returns of mid cap healthcare stocks post-covid is 25.77\n",
      "The median returns of mid cap healthcare stocks post-covid is -15.43\n",
      "The standard deviation of returns of mid cap healthcare stocks post-covid is 178.40\n",
      "The variance of returns of mid cap healthcare stocks post-covid is 31828.04\n",
      "Post-Covid Returns Quartiles for Mid Caps: Lower = -55.63, Mid = -15.43, Upper = 46.11\n"
     ]
    }
   ],
   "source": [
    "# Calculate statistics for post-covid returns\n",
    "\n",
    "mean_post_covid_small = small_cap_healthcare['Return from 2020-2022 (Post-Covid)'].mean()\n",
    "print(f\"The mean returns of mid cap healthcare stocks post-covid is {mean_post_covid_small:.2f}\")\n",
    "\n",
    "median_post_covid_small = small_cap_healthcare['Return from 2020-2022 (Post-Covid)'].median()\n",
    "print(f\"The median returns of mid cap healthcare stocks post-covid is {median_post_covid_small:.2f}\")\n",
    "\n",
    "std_post_covid_small = small_cap_healthcare['Return from 2020-2022 (Post-Covid)'].std()\n",
    "print(f\"The standard deviation of returns of mid cap healthcare stocks post-covid is {std_post_covid_small:.2f}\")\n",
    "\n",
    "var_post_covid_small = small_cap_healthcare['Return from 2020-2022 (Post-Covid)'].var()\n",
    "print(f\"The variance of returns of mid cap healthcare stocks post-covid is {var_post_covid_small:.2f}\")\n",
    "\n",
    "Q1_post_covid_small = small_cap_healthcare['Return from 2020-2022 (Post-Covid)'].quantile(0.25)\n",
    "Q2_post_covid_small = small_cap_healthcare['Return from 2020-2022 (Post-Covid)'].quantile(0.5)\n",
    "Q3_post_covid_small = small_cap_healthcare['Return from 2020-2022 (Post-Covid)'].quantile(0.75)\n",
    "print(f\"Post-Covid Returns Quartiles for Mid Caps: Lower = {Q1_post_covid_small:.2f}, Mid = {Q2_post_covid_small:.2f}, Upper = {Q3_post_covid_small:.2f}\")\n"
   ]
  },
  {
   "cell_type": "code",
   "execution_count": 62,
   "metadata": {},
   "outputs": [
    {
     "data": {
      "text/html": [
       "<div>\n",
       "<style scoped>\n",
       "    .dataframe tbody tr th:only-of-type {\n",
       "        vertical-align: middle;\n",
       "    }\n",
       "\n",
       "    .dataframe tbody tr th {\n",
       "        vertical-align: top;\n",
       "    }\n",
       "\n",
       "    .dataframe thead th {\n",
       "        text-align: right;\n",
       "    }\n",
       "</style>\n",
       "<table border=\"1\" class=\"dataframe\">\n",
       "  <thead>\n",
       "    <tr style=\"text-align: right;\">\n",
       "      <th></th>\n",
       "      <th>Summary Statistics for Returns of Small Cap Healthcare Stocks, Post-Covid</th>\n",
       "    </tr>\n",
       "  </thead>\n",
       "  <tbody>\n",
       "    <tr>\n",
       "      <th>Mean</th>\n",
       "      <td>25.77</td>\n",
       "    </tr>\n",
       "    <tr>\n",
       "      <th>Median</th>\n",
       "      <td>-15.43</td>\n",
       "    </tr>\n",
       "    <tr>\n",
       "      <th>Standard Deviation</th>\n",
       "      <td>178.40</td>\n",
       "    </tr>\n",
       "    <tr>\n",
       "      <th>Variance</th>\n",
       "      <td>31828.04</td>\n",
       "    </tr>\n",
       "  </tbody>\n",
       "</table>\n",
       "</div>"
      ],
      "text/plain": [
       "                    Summary Statistics for Returns of Small Cap Healthcare Stocks, Post-Covid\n",
       "Mean                                                            25.77                        \n",
       "Median                                                         -15.43                        \n",
       "Standard Deviation                                             178.40                        \n",
       "Variance                                                     31828.04                        "
      ]
     },
     "execution_count": 62,
     "metadata": {},
     "output_type": "execute_result"
    }
   ],
   "source": [
    "post_small_summary = [round(mean_post_covid_small,2),\n",
    "                            round(median_post_covid_small,2),\n",
    "                            round(std_post_covid_small,2),\n",
    "                            round(var_post_covid_small,2)]\n",
    "post_small_summary_table = pd.DataFrame({\"Summary Statistics for Returns of Small Cap Healthcare Stocks, Post-Covid\": post_small_summary}, index = [\"Mean\",\"Median\",\"Standard Deviation\", \"Variance\"])\n",
    "\n",
    "post_small_summary_table"
   ]
  },
  {
   "cell_type": "markdown",
   "metadata": {},
   "source": [
    "Box Plot of All Healthcare Stocks by Market Cap"
   ]
  },
  {
   "cell_type": "code",
   "execution_count": 31,
   "metadata": {},
   "outputs": [
    {
     "data": {
      "image/png": "[encoded data removed]",
      "text/plain": [
       "<Figure size 1200x900 with 1 Axes>"
      ]
     },
     "metadata": {},
     "output_type": "display_data"
    }
   ],
   "source": [
    "# organizing by market cap categegory pre and post covid\n",
    "# organizing data into different dataframes\n",
    "large_pre_covid = healthcare_returns_complete_df.loc[(healthcare_returns_complete_df['Market Cap Type'] == 'Large cap')]['Return from 2017-2019 (Pre-Covid)']\n",
    "large_post_covid = healthcare_returns_complete_df.loc[(healthcare_returns_complete_df['Market Cap Type'] == 'Large cap')]['Return from 2020-2022 (Post-Covid)']\n",
    "\n",
    "mid_pre_covid = healthcare_returns_complete_df.loc[(healthcare_returns_complete_df['Market Cap Type'] == 'Mid cap')]['Return from 2017-2019 (Pre-Covid)']\n",
    "mid_post_covid = healthcare_returns_complete_df.loc[(healthcare_returns_complete_df['Market Cap Type'] == 'Mid cap')]['Return from 2020-2022 (Post-Covid)']\n",
    "\n",
    "small_pre_covid = healthcare_returns_complete_df.loc[(healthcare_returns_complete_df['Market Cap Type'] == 'Small cap')]['Return from 2017-2019 (Pre-Covid)']\n",
    "small_post_covid = healthcare_returns_complete_df.loc[(healthcare_returns_complete_df['Market Cap Type'] == 'Small cap')]['Return from 2020-2022 (Post-Covid)']\n",
    "\n",
    "# Create figure and axes\n",
    "fig, ax = plt.subplots(figsize=(12, 9))\n",
    "\n",
    "# Add boxplots. The positions parameter specifies the x-coordinates of the boxes.\n",
    "ax.boxplot([large_pre_covid.dropna(),\n",
    "            large_post_covid.dropna(),\n",
    "             \n",
    "            mid_pre_covid.dropna(), \n",
    "            mid_post_covid.dropna(),\n",
    "             \n",
    "            small_pre_covid.dropna(), \n",
    "            small_post_covid.dropna()],\n",
    "            \n",
    "            positions=[1, 2, 5, 6, 9, 10]),\n",
    "\n",
    "# Set box colors\n",
    "\n",
    "    \n",
    "# x-axis labels\n",
    "ax.set_xticklabels(['Large pre', 'Large post', 'Mid pre', 'Mid post', 'Small pre', 'Small post'])\n",
    "\n",
    "# y-axis label\n",
    "ax.set_ylabel('Return %')\n",
    "\n",
    "# Show the plot\n",
    "plt.show()\n",
    "\n",
    "# has an outlier so will redo and remove in the next cell\n",
    "# also will add colours"
   ]
  },
  {
   "cell_type": "code",
   "execution_count": 50,
   "metadata": {},
   "outputs": [
    {
     "data": {
      "image/png": "[encoded data removed]",
      "text/plain": [
       "<Figure size 1200x900 with 1 Axes>"
      ]
     },
     "metadata": {},
     "output_type": "display_data"
    }
   ],
   "source": [
    "# dropping outliers\n",
    "outlier_healthcare_stock = 'IMTX'\n",
    "\n",
    "# creaing new df that doesn't include the outlier\n",
    "healthcare_returns_complete_df_filtered = healthcare_returns_complete_df[healthcare_returns_complete_df['Symbol'] != outlier_healthcare_stock]\n",
    "\n",
    "# organizing by market cap categegory pre and post covid\n",
    "# organizing data into different dataframes\n",
    "large_pre_covid = healthcare_returns_complete_df_filtered.loc[(healthcare_returns_complete_df_filtered['Market Cap Type'] == 'Large cap')]['Return from 2017-2019 (Pre-Covid)']\n",
    "large_post_covid = healthcare_returns_complete_df_filtered.loc[(healthcare_returns_complete_df_filtered['Market Cap Type'] == 'Large cap')]['Return from 2020-2022 (Post-Covid)']\n",
    "\n",
    "mid_pre_covid = healthcare_returns_complete_df_filtered.loc[(healthcare_returns_complete_df_filtered['Market Cap Type'] == 'Mid cap')]['Return from 2017-2019 (Pre-Covid)']\n",
    "mid_post_covid = healthcare_returns_complete_df_filtered.loc[(healthcare_returns_complete_df_filtered['Market Cap Type'] == 'Mid cap')]['Return from 2020-2022 (Post-Covid)']\n",
    "\n",
    "small_pre_covid = healthcare_returns_complete_df_filtered.loc[(healthcare_returns_complete_df_filtered['Market Cap Type'] == 'Small cap')]['Return from 2017-2019 (Pre-Covid)']\n",
    "small_post_covid = healthcare_returns_complete_df_filtered.loc[(healthcare_returns_complete_df_filtered['Market Cap Type'] == 'Small cap')]['Return from 2020-2022 (Post-Covid)']\n",
    "\n",
    "# Create figure and axes\n",
    "fig, ax = plt.subplots(figsize=(12, 9))\n",
    "\n",
    "# defining properties for boxes, whiskers, caps, and fliers\n",
    "boxprops = dict(linestyle='-', linewidth=1, color='midnightblue', facecolor='midnightblue') \n",
    "whiskerprops = dict(linestyle='-', linewidth=1, color='midnightblue') \n",
    "capprops = dict(linestyle='-', linewidth=1, color='midnightblue') \n",
    "flierprops = dict(marker='o', markerfacecolor='darkorange', markersize=10, linestyle='none',markeredgecolor='saddlebrown' )\n",
    "\n",
    "\n",
    "# Add boxplots. The positions parameter specifies the x-coordinates of the boxes.\n",
    "boxplot = ax.boxplot([large_pre_covid.dropna(),\n",
    "            large_post_covid.dropna(),\n",
    "            \n",
    "            mid_pre_covid.dropna(), \n",
    "            mid_post_covid.dropna(),\n",
    "            \n",
    "            small_pre_covid.dropna(), \n",
    "            small_post_covid.dropna()],\n",
    "                \n",
    "            positions=[1, 2, 4, 5, 7, 8],\n",
    "            \n",
    "            patch_artist=True,\n",
    "            boxprops=boxprops, \n",
    "            whiskerprops=whiskerprops, \n",
    "            capprops=capprops, \n",
    "            flierprops=flierprops)\n",
    "\n",
    "    \n",
    "# x-axis labels\n",
    "ax.set_xticklabels(['Large Pre', 'Large Post', 'Mid Pre', 'Mid Post', 'Small Pre', 'Small Post'])\n",
    "\n",
    "# y-axis label\n",
    "ax.set_ylabel('Return %')\n",
    "ax.set_ylim(-200,1000)\n",
    "\n",
    "ax.set_title('Healthcare Returns by Market Cap')\n",
    "plt.savefig('Healthcare_boxplot.png')\n",
    "# Show the plot\n",
    "plt.show()"
   ]
  },
  {
   "cell_type": "code",
   "execution_count": null,
   "metadata": {},
   "outputs": [],
   "source": []
  }
 ],
 "metadata": {
  "kernelspec": {
   "display_name": "Python 3 (ipykernel)",
   "language": "python",
   "name": "python3"
  },
  "language_info": {
   "codemirror_mode": {
    "name": "ipython",
    "version": 3
   },
   "file_extension": ".py",
   "mimetype": "text/x-python",
   "name": "python",
   "nbconvert_exporter": "python",
   "pygments_lexer": "ipython3",
   "version": "3.10.11"
  }
 },
 "nbformat": 4,
 "nbformat_minor": 2
}
