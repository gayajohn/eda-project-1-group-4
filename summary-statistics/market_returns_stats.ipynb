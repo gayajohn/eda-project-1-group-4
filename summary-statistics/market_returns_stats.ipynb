{
 "cells": [
  {
   "cell_type": "code",
   "execution_count": 1,
   "metadata": {},
   "outputs": [],
   "source": [
    "# import modules\n",
    "\n",
    "import pandas as pd\n",
    "import matplotlib.pyplot as plt\n",
    "import scipy.stats as st\n",
    "import numpy as np\n"
   ]
  },
  {
   "cell_type": "code",
   "execution_count": 2,
   "metadata": {},
   "outputs": [
    {
     "data": {
      "text/html": [
       "<div>\n",
       "<style scoped>\n",
       "    .dataframe tbody tr th:only-of-type {\n",
       "        vertical-align: middle;\n",
       "    }\n",
       "\n",
       "    .dataframe tbody tr th {\n",
       "        vertical-align: top;\n",
       "    }\n",
       "\n",
       "    .dataframe thead th {\n",
       "        text-align: right;\n",
       "    }\n",
       "</style>\n",
       "<table border=\"1\" class=\"dataframe\">\n",
       "  <thead>\n",
       "    <tr style=\"text-align: right;\">\n",
       "      <th></th>\n",
       "      <th>Unnamed: 0</th>\n",
       "      <th>Symbol</th>\n",
       "      <th>GICS Sector</th>\n",
       "      <th>Market Cap Type</th>\n",
       "      <th>Market Cap</th>\n",
       "      <th>Average Volume</th>\n",
       "      <th>Return from 2017-2019 (Pre-Covid)</th>\n",
       "      <th>Return from 2020-2022 (Post-Covid)</th>\n",
       "    </tr>\n",
       "  </thead>\n",
       "  <tbody>\n",
       "    <tr>\n",
       "      <th>0</th>\n",
       "      <td>0</td>\n",
       "      <td>MMM</td>\n",
       "      <td>Industrials</td>\n",
       "      <td>Large Cap</td>\n",
       "      <td>5.755600e+10</td>\n",
       "      <td>3648116.0</td>\n",
       "      <td>-1.677571</td>\n",
       "      <td>-32.507878</td>\n",
       "    </tr>\n",
       "    <tr>\n",
       "      <th>1</th>\n",
       "      <td>1</td>\n",
       "      <td>AOS</td>\n",
       "      <td>Industrials</td>\n",
       "      <td>Large Cap</td>\n",
       "      <td>1.143200e+10</td>\n",
       "      <td>1022067.0</td>\n",
       "      <td>-0.272539</td>\n",
       "      <td>19.474018</td>\n",
       "    </tr>\n",
       "    <tr>\n",
       "      <th>2</th>\n",
       "      <td>2</td>\n",
       "      <td>ABT</td>\n",
       "      <td>Health Care</td>\n",
       "      <td>Large Cap</td>\n",
       "      <td>1.987450e+11</td>\n",
       "      <td>4775809.0</td>\n",
       "      <td>124.695834</td>\n",
       "      <td>27.573790</td>\n",
       "    </tr>\n",
       "    <tr>\n",
       "      <th>3</th>\n",
       "      <td>3</td>\n",
       "      <td>ABBV</td>\n",
       "      <td>Health Care</td>\n",
       "      <td>Large Cap</td>\n",
       "      <td>2.535990e+11</td>\n",
       "      <td>5969209.0</td>\n",
       "      <td>40.686585</td>\n",
       "      <td>81.421191</td>\n",
       "    </tr>\n",
       "    <tr>\n",
       "      <th>4</th>\n",
       "      <td>4</td>\n",
       "      <td>ACN</td>\n",
       "      <td>Information Technology</td>\n",
       "      <td>Large Cap</td>\n",
       "      <td>1.987340e+11</td>\n",
       "      <td>2552522.0</td>\n",
       "      <td>79.451358</td>\n",
       "      <td>26.548419</td>\n",
       "    </tr>\n",
       "  </tbody>\n",
       "</table>\n",
       "</div>"
      ],
      "text/plain": [
       "   Unnamed: 0 Symbol             GICS Sector Market Cap Type    Market Cap  \\\n",
       "0           0    MMM             Industrials       Large Cap  5.755600e+10   \n",
       "1           1    AOS             Industrials       Large Cap  1.143200e+10   \n",
       "2           2    ABT             Health Care       Large Cap  1.987450e+11   \n",
       "3           3   ABBV             Health Care       Large Cap  2.535990e+11   \n",
       "4           4    ACN  Information Technology       Large Cap  1.987340e+11   \n",
       "\n",
       "   Average Volume  Return from 2017-2019 (Pre-Covid)  \\\n",
       "0       3648116.0                          -1.677571   \n",
       "1       1022067.0                          -0.272539   \n",
       "2       4775809.0                         124.695834   \n",
       "3       5969209.0                          40.686585   \n",
       "4       2552522.0                          79.451358   \n",
       "\n",
       "   Return from 2020-2022 (Post-Covid)  \n",
       "0                          -32.507878  \n",
       "1                           19.474018  \n",
       "2                           27.573790  \n",
       "3                           81.421191  \n",
       "4                           26.548419  "
      ]
     },
     "execution_count": 2,
     "metadata": {},
     "output_type": "execute_result"
    }
   ],
   "source": [
    "# reading the csv\n",
    "\n",
    "market_returns_complete_df = pd.read_csv('../summary-statistics/market_returns_complete.csv')\n",
    "market_returns_complete_df.head()\n",
    "\n"
   ]
  },
  {
   "cell_type": "code",
   "execution_count": 3,
   "metadata": {},
   "outputs": [],
   "source": [
    "# making pre and post covid variables for summary statistics\n",
    "\n",
    "pre_returns_market = market_returns_complete_df['Return from 2017-2019 (Pre-Covid)']\n",
    "post_returns_market = market_returns_complete_df['Return from 2020-2022 (Post-Covid)']\n"
   ]
  },
  {
   "cell_type": "markdown",
   "metadata": {},
   "source": [
    "Mean, Median, Std dev, Variance, Quartiles of all market\n",
    " Stocks \n",
    "(Pre and Post-Covid)"
   ]
  },
  {
   "cell_type": "code",
   "execution_count": 4,
   "metadata": {},
   "outputs": [
    {
     "name": "stdout",
     "output_type": "stream",
     "text": [
      "The mean returns of stocks in the market pre-covid is 59.35\n",
      "The median returns of stocks in the market pre-covid is 42.98\n",
      "The standard deviation of returns of stocks in the market pre-covid is 127.02\n",
      "The variance of returns of stocks in the market pre-covid is 16133.59\n",
      "Pre-Covid Returns Quartiles: Lower = 8.51, Mid = 42.98, Upper = 83.85\n"
     ]
    }
   ],
   "source": [
    "# calculating measures of central tendencies pre-covid\n",
    "\n",
    "mean_numpy = np.mean(pre_returns_market)\n",
    "print(f\"The mean returns of stocks in the market pre-covid is {mean_numpy:.2f}\")\n",
    "\n",
    "median_numpy = np.median(pre_returns_market)\n",
    "print(f\"The median returns of stocks in the market pre-covid is {median_numpy:.2f}\")\n",
    "\n",
    "std_dev_numpy = np.std(pre_returns_market)\n",
    "print(f\"The standard deviation of returns of stocks in the market pre-covid is {std_dev_numpy:.2f}\")\n",
    "\n",
    "variance_numpy = np.var(pre_returns_market)\n",
    "print(f\"The variance of returns of stocks in the market pre-covid is {variance_numpy:.2f}\")\n",
    "\n",
    "# calculating quartiles for pre-covid returns\n",
    "Q1_pre_covid = market_returns_complete_df['Return from 2017-2019 (Pre-Covid)'].quantile(0.25)\n",
    "Q2_pre_covid = market_returns_complete_df['Return from 2017-2019 (Pre-Covid)'].quantile(0.5)\n",
    "Q3_pre_covid = market_returns_complete_df['Return from 2017-2019 (Pre-Covid)'].quantile(0.75)\n",
    "print(f\"Pre-Covid Returns Quartiles: Lower = {Q1_pre_covid:.2f}, Mid = {Q2_pre_covid:.2f}, Upper = {Q3_pre_covid:.2f}\")\n",
    "\n"
   ]
  },
  {
   "cell_type": "code",
   "execution_count": 5,
   "metadata": {},
   "outputs": [
    {
     "data": {
      "text/html": [
       "<div>\n",
       "<style scoped>\n",
       "    .dataframe tbody tr th:only-of-type {\n",
       "        vertical-align: middle;\n",
       "    }\n",
       "\n",
       "    .dataframe tbody tr th {\n",
       "        vertical-align: top;\n",
       "    }\n",
       "\n",
       "    .dataframe thead th {\n",
       "        text-align: right;\n",
       "    }\n",
       "</style>\n",
       "<table border=\"1\" class=\"dataframe\">\n",
       "  <thead>\n",
       "    <tr style=\"text-align: right;\">\n",
       "      <th></th>\n",
       "      <th>Summary Statistics for Returns of Market, Pre-Covid</th>\n",
       "    </tr>\n",
       "  </thead>\n",
       "  <tbody>\n",
       "    <tr>\n",
       "      <th>Mean</th>\n",
       "      <td>59.35</td>\n",
       "    </tr>\n",
       "    <tr>\n",
       "      <th>Median</th>\n",
       "      <td>42.98</td>\n",
       "    </tr>\n",
       "    <tr>\n",
       "      <th>Standard Deviation</th>\n",
       "      <td>127.02</td>\n",
       "    </tr>\n",
       "    <tr>\n",
       "      <th>Variance</th>\n",
       "      <td>16133.59</td>\n",
       "    </tr>\n",
       "  </tbody>\n",
       "</table>\n",
       "</div>"
      ],
      "text/plain": [
       "                    Summary Statistics for Returns of Market, Pre-Covid\n",
       "Mean                                                            59.35  \n",
       "Median                                                          42.98  \n",
       "Standard Deviation                                             127.02  \n",
       "Variance                                                     16133.59  "
      ]
     },
     "execution_count": 5,
     "metadata": {},
     "output_type": "execute_result"
    }
   ],
   "source": [
    "precovid_summary = [round(mean_numpy,2),\n",
    "                            round(median_numpy,2),\n",
    "                            round(std_dev_numpy,2),\n",
    "                            round(variance_numpy,2)]\n",
    "precovid_summary_table = pd.DataFrame({\"Summary Statistics for Returns of Market, Pre-Covid\": precovid_summary}, index = [\"Mean\",\"Median\",\"Standard Deviation\", \"Variance\"])\n",
    "\n",
    "precovid_summary_table\n"
   ]
  },
  {
   "cell_type": "code",
   "execution_count": 6,
   "metadata": {},
   "outputs": [
    {
     "name": "stdout",
     "output_type": "stream",
     "text": [
      "The mean returns of stocks in the market post-covid is 27.95\n",
      "The median returns of stocks in the market post-covid is 18.74\n",
      "The standard deviation of returns of stocks in the market post-covid is 72.20\n",
      "The variance of returns of stocks in the market post-covid is 5212.14\n",
      "Pre-Covid Returns Quartiles: Lower = -6.12, Mid = 18.74, Upper = 45.93\n"
     ]
    }
   ],
   "source": [
    "# calculating measures of central tendencies post-covid\n",
    "\n",
    "mean_numpy = np.mean(post_returns_market)\n",
    "print(f\"The mean returns of stocks in the market post-covid is {mean_numpy:.2f}\")\n",
    "\n",
    "median_numpy = np.median(post_returns_market)\n",
    "print(f\"The median returns of stocks in the market post-covid is {median_numpy:.2f}\")\n",
    "\n",
    "std_dev_numpy = np.std(post_returns_market)\n",
    "print(f\"The standard deviation of returns of stocks in the market post-covid is {std_dev_numpy:.2f}\")\n",
    "\n",
    "variance_numpy = np.var(post_returns_market)\n",
    "print(f\"The variance of returns of stocks in the market post-covid is {variance_numpy:.2f}\")\n",
    "\n",
    "# calculating quartiles for pre-covid returns\n",
    "Q1_post_covid = market_returns_complete_df['Return from 2020-2022 (Post-Covid)'].quantile(0.25)\n",
    "Q2_post_covid = market_returns_complete_df['Return from 2020-2022 (Post-Covid)'].quantile(0.5)\n",
    "Q3_post_covid = market_returns_complete_df['Return from 2020-2022 (Post-Covid)'].quantile(0.75)\n",
    "print(f\"Pre-Covid Returns Quartiles: Lower = {Q1_post_covid:.2f}, Mid = {Q2_post_covid:.2f}, Upper = {Q3_post_covid:.2f}\")\n"
   ]
  },
  {
   "cell_type": "code",
   "execution_count": 7,
   "metadata": {},
   "outputs": [
    {
     "data": {
      "text/html": [
       "<div>\n",
       "<style scoped>\n",
       "    .dataframe tbody tr th:only-of-type {\n",
       "        vertical-align: middle;\n",
       "    }\n",
       "\n",
       "    .dataframe tbody tr th {\n",
       "        vertical-align: top;\n",
       "    }\n",
       "\n",
       "    .dataframe thead th {\n",
       "        text-align: right;\n",
       "    }\n",
       "</style>\n",
       "<table border=\"1\" class=\"dataframe\">\n",
       "  <thead>\n",
       "    <tr style=\"text-align: right;\">\n",
       "      <th></th>\n",
       "      <th>Summary Statistics for Returns of Market, Post-Covid</th>\n",
       "    </tr>\n",
       "  </thead>\n",
       "  <tbody>\n",
       "    <tr>\n",
       "      <th>Mean</th>\n",
       "      <td>27.95</td>\n",
       "    </tr>\n",
       "    <tr>\n",
       "      <th>Median</th>\n",
       "      <td>18.74</td>\n",
       "    </tr>\n",
       "    <tr>\n",
       "      <th>Standard Deviation</th>\n",
       "      <td>72.20</td>\n",
       "    </tr>\n",
       "    <tr>\n",
       "      <th>Variance</th>\n",
       "      <td>5212.14</td>\n",
       "    </tr>\n",
       "  </tbody>\n",
       "</table>\n",
       "</div>"
      ],
      "text/plain": [
       "                    Summary Statistics for Returns of Market, Post-Covid\n",
       "Mean                                                            27.95   \n",
       "Median                                                          18.74   \n",
       "Standard Deviation                                              72.20   \n",
       "Variance                                                      5212.14   "
      ]
     },
     "execution_count": 7,
     "metadata": {},
     "output_type": "execute_result"
    }
   ],
   "source": [
    "postcovid_summary = [round(mean_numpy,2),\n",
    "                            round(median_numpy,2),\n",
    "                            round(std_dev_numpy,2),\n",
    "                            round(variance_numpy,2)]\n",
    "postcovid_summary_table = pd.DataFrame({\"Summary Statistics for Returns of Market, Post-Covid\": postcovid_summary}, index = [\"Mean\",\"Median\",\"Standard Deviation\", \"Variance\"])\n",
    "\n",
    "postcovid_summary_table\n"
   ]
  },
  {
   "cell_type": "markdown",
   "metadata": {},
   "source": [
    "Mean, Median, Std dev, Variance, Quartiles of Large cap stocks\n",
    "(Pre and Post-Covid)"
   ]
  },
  {
   "cell_type": "code",
   "execution_count": 8,
   "metadata": {},
   "outputs": [],
   "source": [
    "# Filter for large cap stocks\n",
    "\n",
    "large_cap_market = market_returns_complete_df[market_returns_complete_df['Market Cap Type'] == 'Large Cap']"
   ]
  },
  {
   "cell_type": "code",
   "execution_count": 9,
   "metadata": {},
   "outputs": [
    {
     "name": "stdout",
     "output_type": "stream",
     "text": [
      "The mean returns of large cap market stocks pre-covid is 62.34\n",
      "The median returns of large cap market stocks pre-covid is 46.81\n",
      "The standard deviation of returns of large cap market stocks pre-covid is 129.89\n",
      "The variance of returns of large cap market stocks pre-covid is 16870.29\n",
      "Post-Covid Returns Quartiles for Large Caps: Lower = 11.43, Mid = 46.81, Upper = 84.74\n"
     ]
    }
   ],
   "source": [
    "# Calculate statistics for pre-covid returns\n",
    "\n",
    "mean_pre_covid_large = large_cap_market['Return from 2017-2019 (Pre-Covid)'].mean()\n",
    "print(f\"The mean returns of large cap market stocks pre-covid is {mean_pre_covid_large:.2f}\")\n",
    "\n",
    "median_pre_covid_large = large_cap_market['Return from 2017-2019 (Pre-Covid)'].median()\n",
    "print(f\"The median returns of large cap market stocks pre-covid is {median_pre_covid_large:.2f}\")\n",
    "\n",
    "std_pre_covid_large = large_cap_market['Return from 2017-2019 (Pre-Covid)'].std()\n",
    "print(f\"The standard deviation of returns of large cap market stocks pre-covid is {std_pre_covid_large:.2f}\")\n",
    "\n",
    "var_pre_covid_large = large_cap_market['Return from 2017-2019 (Pre-Covid)'].var()\n",
    "print(f\"The variance of returns of large cap market stocks pre-covid is {var_pre_covid_large:.2f}\")\n",
    "\n",
    "Q1_pre_covid_large = large_cap_market['Return from 2017-2019 (Pre-Covid)'].quantile(0.25)\n",
    "Q2_pre_covid_large = large_cap_market['Return from 2017-2019 (Pre-Covid)'].quantile(0.5)\n",
    "Q3_pre_covid_large = large_cap_market['Return from 2017-2019 (Pre-Covid)'].quantile(0.75)\n",
    "print(f\"Post-Covid Returns Quartiles for Large Caps: Lower = {Q1_pre_covid_large:.2f}, Mid = {Q2_pre_covid_large:.2f}, Upper = {Q3_pre_covid_large:.2f}\")\n"
   ]
  },
  {
   "cell_type": "code",
   "execution_count": 10,
   "metadata": {},
   "outputs": [
    {
     "data": {
      "text/html": [
       "<div>\n",
       "<style scoped>\n",
       "    .dataframe tbody tr th:only-of-type {\n",
       "        vertical-align: middle;\n",
       "    }\n",
       "\n",
       "    .dataframe tbody tr th {\n",
       "        vertical-align: top;\n",
       "    }\n",
       "\n",
       "    .dataframe thead th {\n",
       "        text-align: right;\n",
       "    }\n",
       "</style>\n",
       "<table border=\"1\" class=\"dataframe\">\n",
       "  <thead>\n",
       "    <tr style=\"text-align: right;\">\n",
       "      <th></th>\n",
       "      <th>Summary Statistics for Returns of Large Cap Stocks, Pre-Covid</th>\n",
       "    </tr>\n",
       "  </thead>\n",
       "  <tbody>\n",
       "    <tr>\n",
       "      <th>Mean</th>\n",
       "      <td>62.34</td>\n",
       "    </tr>\n",
       "    <tr>\n",
       "      <th>Median</th>\n",
       "      <td>46.81</td>\n",
       "    </tr>\n",
       "    <tr>\n",
       "      <th>Standard Deviation</th>\n",
       "      <td>129.89</td>\n",
       "    </tr>\n",
       "    <tr>\n",
       "      <th>Variance</th>\n",
       "      <td>16870.29</td>\n",
       "    </tr>\n",
       "  </tbody>\n",
       "</table>\n",
       "</div>"
      ],
      "text/plain": [
       "                    Summary Statistics for Returns of Large Cap Stocks, Pre-Covid\n",
       "Mean                                                            62.34            \n",
       "Median                                                          46.81            \n",
       "Standard Deviation                                             129.89            \n",
       "Variance                                                     16870.29            "
      ]
     },
     "execution_count": 10,
     "metadata": {},
     "output_type": "execute_result"
    }
   ],
   "source": [
    "pre_large_summary = [round(mean_pre_covid_large,2),\n",
    "                            round(median_pre_covid_large,2),\n",
    "                            round(std_pre_covid_large,2),\n",
    "                            round(var_pre_covid_large,2)]\n",
    "pre_large_summary_table = pd.DataFrame({\"Summary Statistics for Returns of Large Cap Stocks, Pre-Covid\": pre_large_summary}, index = [\"Mean\",\"Median\",\"Standard Deviation\", \"Variance\"])\n",
    "\n",
    "pre_large_summary_table\n"
   ]
  },
  {
   "cell_type": "code",
   "execution_count": 12,
   "metadata": {},
   "outputs": [
    {
     "name": "stdout",
     "output_type": "stream",
     "text": [
      "The mean returns of large cap market stocks post-covid is 30.48\n",
      "The median returns of large cap market stocks post-covid is 21.04\n",
      "The standard deviation of returns of large cap market stocks post-covid is 73.05\n",
      "The variance of returns of large cap market stocks post-covid is 5335.96\n",
      "Post-Covid Returns Quartiles for Large Caps: Lower = -3.07, Mid = 21.04, Upper = 48.61\n"
     ]
    }
   ],
   "source": [
    "# Calculate statistics for post-covid returns\n",
    "\n",
    "mean_post_covid_large = large_cap_market['Return from 2020-2022 (Post-Covid)'].mean()\n",
    "print(f\"The mean returns of large cap market stocks post-covid is {mean_post_covid_large:.2f}\")\n",
    "\n",
    "median_post_covid_large = large_cap_market['Return from 2020-2022 (Post-Covid)'].median()\n",
    "print(f\"The median returns of large cap market stocks post-covid is {median_post_covid_large:.2f}\")\n",
    "\n",
    "std_post_covid_large = large_cap_market['Return from 2020-2022 (Post-Covid)'].std()\n",
    "print(f\"The standard deviation of returns of large cap market stocks post-covid is {std_post_covid_large:.2f}\")\n",
    "\n",
    "var_post_covid_large = large_cap_market['Return from 2020-2022 (Post-Covid)'].var()\n",
    "print(f\"The variance of returns of large cap market stocks post-covid is {var_post_covid_large:.2f}\")\n",
    "\n",
    "Q1_post_covid_large = large_cap_market['Return from 2020-2022 (Post-Covid)'].quantile(0.25)\n",
    "Q2_post_covid_large = large_cap_market['Return from 2020-2022 (Post-Covid)'].quantile(0.5)\n",
    "Q3_post_covid_large = large_cap_market['Return from 2020-2022 (Post-Covid)'].quantile(0.75)\n",
    "print(f\"Post-Covid Returns Quartiles for Large Caps: Lower = {Q1_post_covid_large:.2f}, Mid = {Q2_post_covid_large:.2f}, Upper = {Q3_post_covid_large:.2f}\")"
   ]
  },
  {
   "cell_type": "code",
   "execution_count": 13,
   "metadata": {},
   "outputs": [
    {
     "data": {
      "text/html": [
       "<div>\n",
       "<style scoped>\n",
       "    .dataframe tbody tr th:only-of-type {\n",
       "        vertical-align: middle;\n",
       "    }\n",
       "\n",
       "    .dataframe tbody tr th {\n",
       "        vertical-align: top;\n",
       "    }\n",
       "\n",
       "    .dataframe thead th {\n",
       "        text-align: right;\n",
       "    }\n",
       "</style>\n",
       "<table border=\"1\" class=\"dataframe\">\n",
       "  <thead>\n",
       "    <tr style=\"text-align: right;\">\n",
       "      <th></th>\n",
       "      <th>Summary Statistics for Returns of Large Cap Stocks, Post-Covid</th>\n",
       "    </tr>\n",
       "  </thead>\n",
       "  <tbody>\n",
       "    <tr>\n",
       "      <th>Mean</th>\n",
       "      <td>30.48</td>\n",
       "    </tr>\n",
       "    <tr>\n",
       "      <th>Median</th>\n",
       "      <td>21.04</td>\n",
       "    </tr>\n",
       "    <tr>\n",
       "      <th>Standard Deviation</th>\n",
       "      <td>73.05</td>\n",
       "    </tr>\n",
       "    <tr>\n",
       "      <th>Variance</th>\n",
       "      <td>5335.96</td>\n",
       "    </tr>\n",
       "  </tbody>\n",
       "</table>\n",
       "</div>"
      ],
      "text/plain": [
       "                    Summary Statistics for Returns of Large Cap Stocks, Post-Covid\n",
       "Mean                                                            30.48             \n",
       "Median                                                          21.04             \n",
       "Standard Deviation                                              73.05             \n",
       "Variance                                                      5335.96             "
      ]
     },
     "execution_count": 13,
     "metadata": {},
     "output_type": "execute_result"
    }
   ],
   "source": [
    "post_large_summary = [round(mean_post_covid_large,2),\n",
    "                            round(median_post_covid_large,2),\n",
    "                            round(std_post_covid_large,2),\n",
    "                            round(var_post_covid_large,2)]\n",
    "post_large_summary_table = pd.DataFrame({\"Summary Statistics for Returns of Large Cap Stocks, Post-Covid\": post_large_summary}, index = [\"Mean\",\"Median\",\"Standard Deviation\", \"Variance\"])\n",
    "\n",
    "post_large_summary_table"
   ]
  },
  {
   "cell_type": "code",
   "execution_count": 14,
   "metadata": {},
   "outputs": [],
   "source": [
    "# Filter for mid cap stocks\n",
    "\n",
    "mid_cap_market = market_returns_complete_df[market_returns_complete_df['Market Cap Type'] == 'Mid Cap']"
   ]
  },
  {
   "cell_type": "code",
   "execution_count": 15,
   "metadata": {},
   "outputs": [
    {
     "name": "stdout",
     "output_type": "stream",
     "text": [
      "The mean returns of stocks in the market pre-covid is 14.38\n",
      "The mean returns of stocks in the market pre-covid is -2.79\n",
      "The mean returns of stocks in the market pre-covid is 59.47\n",
      "The mean returns of stocks in the market pre-covid is 3537.06\n",
      "Pre-Covid Returns Quartiles for Mid Caps: Lower = -18.67, Mid = -2.79, Upper = 31.19\n"
     ]
    }
   ],
   "source": [
    "# Calculate statistics for pre-covid returns\n",
    "\n",
    "mean_pre_covid_mid = mid_cap_market['Return from 2017-2019 (Pre-Covid)'].mean()\n",
    "print(f\"The mean returns of stocks in the market pre-covid is {mean_pre_covid_mid:.2f}\")\n",
    "\n",
    "median_pre_covid_mid = mid_cap_market['Return from 2017-2019 (Pre-Covid)'].median()\n",
    "print(f\"The mean returns of stocks in the market pre-covid is {median_pre_covid_mid:.2f}\")\n",
    "\n",
    "std_pre_covid_mid = mid_cap_market['Return from 2017-2019 (Pre-Covid)'].std()\n",
    "print(f\"The mean returns of stocks in the market pre-covid is {std_pre_covid_mid:.2f}\")\n",
    "\n",
    "var_pre_covid_mid = mid_cap_market['Return from 2017-2019 (Pre-Covid)'].var()\n",
    "print(f\"The mean returns of stocks in the market pre-covid is {var_pre_covid_mid:.2f}\")\n",
    "\n",
    "Q1_pre_covid_mid = mid_cap_market['Return from 2017-2019 (Pre-Covid)'].quantile(0.25)\n",
    "Q2_pre_covid_mid = mid_cap_market['Return from 2017-2019 (Pre-Covid)'].quantile(0.5)\n",
    "Q3_pre_covid_mid = mid_cap_market['Return from 2017-2019 (Pre-Covid)'].quantile(0.75)\n",
    "print(f\"Pre-Covid Returns Quartiles for Mid Caps: Lower = {Q1_pre_covid_mid:.2f}, Mid = {Q2_pre_covid_mid:.2f}, Upper = {Q3_pre_covid_mid:.2f}\")"
   ]
  },
  {
   "cell_type": "code",
   "execution_count": 17,
   "metadata": {},
   "outputs": [
    {
     "data": {
      "text/html": [
       "<div>\n",
       "<style scoped>\n",
       "    .dataframe tbody tr th:only-of-type {\n",
       "        vertical-align: middle;\n",
       "    }\n",
       "\n",
       "    .dataframe tbody tr th {\n",
       "        vertical-align: top;\n",
       "    }\n",
       "\n",
       "    .dataframe thead th {\n",
       "        text-align: right;\n",
       "    }\n",
       "</style>\n",
       "<table border=\"1\" class=\"dataframe\">\n",
       "  <thead>\n",
       "    <tr style=\"text-align: right;\">\n",
       "      <th></th>\n",
       "      <th>Summary Statistics for Returns of Mid Cap Stocks, Pre-Covid</th>\n",
       "    </tr>\n",
       "  </thead>\n",
       "  <tbody>\n",
       "    <tr>\n",
       "      <th>Mean</th>\n",
       "      <td>14.38</td>\n",
       "    </tr>\n",
       "    <tr>\n",
       "      <th>Median</th>\n",
       "      <td>-2.79</td>\n",
       "    </tr>\n",
       "    <tr>\n",
       "      <th>Standard Deviation</th>\n",
       "      <td>59.47</td>\n",
       "    </tr>\n",
       "    <tr>\n",
       "      <th>Variance</th>\n",
       "      <td>3537.06</td>\n",
       "    </tr>\n",
       "  </tbody>\n",
       "</table>\n",
       "</div>"
      ],
      "text/plain": [
       "                    Summary Statistics for Returns of Mid Cap Stocks, Pre-Covid\n",
       "Mean                                                            14.38          \n",
       "Median                                                          -2.79          \n",
       "Standard Deviation                                              59.47          \n",
       "Variance                                                      3537.06          "
      ]
     },
     "execution_count": 17,
     "metadata": {},
     "output_type": "execute_result"
    }
   ],
   "source": [
    "pre_mid_summary = [round(mean_pre_covid_mid,2),\n",
    "                            round(median_pre_covid_mid,2),\n",
    "                            round(std_pre_covid_mid,2),\n",
    "                            round(var_pre_covid_mid,2)]\n",
    "pre_mid_summary_table = pd.DataFrame({\"Summary Statistics for Returns of Mid Cap Stocks, Pre-Covid\": pre_mid_summary}, index = [\"Mean\",\"Median\",\"Standard Deviation\", \"Variance\"])\n",
    "\n",
    "pre_mid_summary_table"
   ]
  },
  {
   "cell_type": "code",
   "execution_count": 18,
   "metadata": {},
   "outputs": [
    {
     "name": "stdout",
     "output_type": "stream",
     "text": [
      "The mean returns of mid cap market stocks post-covid is -10.14\n",
      "The median returns of mid cap market stocks post-covid is -10.41\n",
      "The standard deviation of returns of mid cap market stocks post-covid is 45.14\n",
      "The variance of returns of mid cap market stocks post-covid is 2037.69\n",
      "Post-Covid Returns Quartiles for Mid Caps: Lower = -31.50, Mid = -10.41, Upper = -0.75\n"
     ]
    }
   ],
   "source": [
    "# Calculate statistics for post-covid returns\n",
    "\n",
    "mean_post_covid_mid = mid_cap_market['Return from 2020-2022 (Post-Covid)'].mean()\n",
    "print(f\"The mean returns of mid cap market stocks post-covid is {mean_post_covid_mid:.2f}\")\n",
    "\n",
    "median_post_covid_mid = mid_cap_market['Return from 2020-2022 (Post-Covid)'].median()\n",
    "print(f\"The median returns of mid cap market stocks post-covid is {median_post_covid_mid:.2f}\")\n",
    "\n",
    "std_post_covid_mid = mid_cap_market['Return from 2020-2022 (Post-Covid)'].std()\n",
    "print(f\"The standard deviation of returns of mid cap market stocks post-covid is {std_post_covid_mid:.2f}\")\n",
    "\n",
    "var_post_covid_mid = mid_cap_market['Return from 2020-2022 (Post-Covid)'].var()\n",
    "print(f\"The variance of returns of mid cap market stocks post-covid is {var_post_covid_mid:.2f}\")\n",
    "\n",
    "Q1_market_mid = mid_cap_market['Return from 2020-2022 (Post-Covid)'].quantile(0.25)\n",
    "Q2_market_mid = mid_cap_market['Return from 2020-2022 (Post-Covid)'].quantile(0.5)\n",
    "Q3_market_mid = mid_cap_market['Return from 2020-2022 (Post-Covid)'].quantile(0.75)\n",
    "print(f\"Post-Covid Returns Quartiles for Mid Caps: Lower = {Q1_market_mid:.2f}, Mid = {Q2_market_mid:.2f}, Upper = {Q3_market_mid:.2f}\")"
   ]
  },
  {
   "cell_type": "code",
   "execution_count": 19,
   "metadata": {},
   "outputs": [
    {
     "data": {
      "text/html": [
       "<div>\n",
       "<style scoped>\n",
       "    .dataframe tbody tr th:only-of-type {\n",
       "        vertical-align: middle;\n",
       "    }\n",
       "\n",
       "    .dataframe tbody tr th {\n",
       "        vertical-align: top;\n",
       "    }\n",
       "\n",
       "    .dataframe thead th {\n",
       "        text-align: right;\n",
       "    }\n",
       "</style>\n",
       "<table border=\"1\" class=\"dataframe\">\n",
       "  <thead>\n",
       "    <tr style=\"text-align: right;\">\n",
       "      <th></th>\n",
       "      <th>Summary Statistics for Returns of Mid Cap Stocks, Post-Covid</th>\n",
       "    </tr>\n",
       "  </thead>\n",
       "  <tbody>\n",
       "    <tr>\n",
       "      <th>Mean</th>\n",
       "      <td>-10.14</td>\n",
       "    </tr>\n",
       "    <tr>\n",
       "      <th>Median</th>\n",
       "      <td>-10.41</td>\n",
       "    </tr>\n",
       "    <tr>\n",
       "      <th>Standard Deviation</th>\n",
       "      <td>45.14</td>\n",
       "    </tr>\n",
       "    <tr>\n",
       "      <th>Variance</th>\n",
       "      <td>2037.69</td>\n",
       "    </tr>\n",
       "  </tbody>\n",
       "</table>\n",
       "</div>"
      ],
      "text/plain": [
       "                    Summary Statistics for Returns of Mid Cap Stocks, Post-Covid\n",
       "Mean                                                           -10.14           \n",
       "Median                                                         -10.41           \n",
       "Standard Deviation                                              45.14           \n",
       "Variance                                                      2037.69           "
      ]
     },
     "execution_count": 19,
     "metadata": {},
     "output_type": "execute_result"
    }
   ],
   "source": [
    "post_mid_summary = [round(mean_post_covid_mid,2),\n",
    "                            round(median_post_covid_mid,2),\n",
    "                            round(std_post_covid_mid,2),\n",
    "                            round(var_post_covid_mid,2)]\n",
    "post_mid_summary_table = pd.DataFrame({\"Summary Statistics for Returns of Mid Cap Stocks, Post-Covid\": post_mid_summary}, index = [\"Mean\",\"Median\",\"Standard Deviation\", \"Variance\"])\n",
    "\n",
    "post_mid_summary_table"
   ]
  },
  {
   "cell_type": "code",
   "execution_count": 17,
   "metadata": {},
   "outputs": [],
   "source": [
    "# done with small caps, none in csv"
   ]
  },
  {
   "cell_type": "markdown",
   "metadata": {},
   "source": [
    "Box Plot of All Market Stocks"
   ]
  },
  {
   "cell_type": "code",
   "execution_count": 21,
   "metadata": {},
   "outputs": [
    {
     "data": {
      "image/png": "[encoded data removed]",
      "text/plain": [
       "<Figure size 1200x900 with 1 Axes>"
      ]
     },
     "metadata": {},
     "output_type": "display_data"
    }
   ],
   "source": [
    "# organizing by market cap categegory pre and post covid\n",
    "# organizing data into different dataframes\n",
    "large_pre_covid = market_returns_complete_df.loc[(market_returns_complete_df['Market Cap Type'] == 'Large Cap')]['Return from 2017-2019 (Pre-Covid)']\n",
    "large_post_covid = market_returns_complete_df.loc[(market_returns_complete_df['Market Cap Type'] == 'Large Cap')]['Return from 2020-2022 (Post-Covid)']\n",
    "\n",
    "mid_pre_covid = market_returns_complete_df.loc[(market_returns_complete_df['Market Cap Type'] == 'Mid Cap')]['Return from 2017-2019 (Pre-Covid)']\n",
    "mid_post_covid = market_returns_complete_df.loc[(market_returns_complete_df['Market Cap Type'] == 'Mid Cap')]['Return from 2020-2022 (Post-Covid)']\n",
    "\n",
    "# Create figure and axes\n",
    "fig, ax = plt.subplots(figsize=(12, 9))\n",
    "\n",
    "# defining properties for boxes, whiskers, caps, and fliers\n",
    "boxprops = dict(linestyle='-', linewidth=1, color='midnightblue', facecolor='midnightblue') \n",
    "whiskerprops = dict(linestyle='-', linewidth=1, color='midnightblue') \n",
    "capprops = dict(linestyle='-', linewidth=1, color='midnightblue') \n",
    "flierprops = dict(marker='o', markerfacecolor='darkorange', markersize=10, linestyle='none',markeredgecolor='saddlebrown' )\n",
    "\n",
    "# Add boxplots. The positions parameter specifies the x-coordinates of the boxes.\n",
    "boxplot = ax.boxplot([large_pre_covid.dropna(),\n",
    "            large_post_covid.dropna(),\n",
    "            \n",
    "            mid_pre_covid.dropna(), \n",
    "            mid_post_covid.dropna()],\n",
    "              \n",
    "            positions=[1, 2, 4, 5],\n",
    "            \n",
    "            patch_artist=True,\n",
    "            boxprops=boxprops, \n",
    "            whiskerprops=whiskerprops, \n",
    "            capprops=capprops, \n",
    "            flierprops=flierprops)\n",
    "\n",
    "    \n",
    "# x-axis labels\n",
    "ax.set_xticklabels(['Large Pre', 'Large Post', 'Mid Pre', 'Mid Post'])\n",
    "\n",
    "# y-axis label\n",
    "ax.set_ylabel('Return %')\n",
    "ax.set_ylim(-200,1000)\n",
    "\n",
    "ax.set_title('Market Returns by Market Cap')\n",
    "plt.savefig('Market_boxplot.png')\n",
    "\n",
    "# Show the plot\n",
    "plt.show()"
   ]
  },
  {
   "cell_type": "code",
   "execution_count": null,
   "metadata": {},
   "outputs": [],
   "source": []
  }
 ],
 "metadata": {
  "kernelspec": {
   "display_name": "Python 3 (ipykernel)",
   "language": "python",
   "name": "python3"
  },
  "language_info": {
   "codemirror_mode": {
    "name": "ipython",
    "version": 3
   },
   "file_extension": ".py",
   "mimetype": "text/x-python",
   "name": "python",
   "nbconvert_exporter": "python",
   "pygments_lexer": "ipython3",
   "version": "3.10.11"
  }
 },
 "nbformat": 4,
 "nbformat_minor": 2
}
