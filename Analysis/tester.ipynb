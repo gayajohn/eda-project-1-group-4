{
 "cells": [
  {
   "cell_type": "code",
   "execution_count": 1,
   "id": "c4de3597",
   "metadata": {},
   "outputs": [],
   "source": [
    "#dependancies\n",
    "import pandas as pd\n",
    "from pathlib import Path\n",
    "import os\n",
    "import csv\n",
    "import numpy as np\n",
    "import matplotlib.pyplot as plt\n",
    "from scipy.stats import linregress\n",
    "import scipy.stats as st\n",
    "import requests\n",
    "import json\n",
    "import pprint\n",
    "import warnings\n",
    "warnings.filterwarnings(\"ignore\")"
   ]
  },
  {
   "cell_type": "code",
   "execution_count": 9,
   "id": "2f8ef9e7",
   "metadata": {},
   "outputs": [],
   "source": [
    "from yahoo_fin.stock_info import get_quote_data\n",
    "from yahoo_fin.stock_info import get_company_info\n",
    "from yahoo_fin.stock_info import get_quote_table\n"
   ]
  },
  {
   "cell_type": "code",
   "execution_count": 7,
   "id": "7cd0c527",
   "metadata": {},
   "outputs": [
    {
     "ename": "TypeError",
     "evalue": "string indices must be integers",
     "output_type": "error",
     "traceback": [
      "\u001b[1;31m---------------------------------------------------------------------------\u001b[0m",
      "\u001b[1;31mTypeError\u001b[0m                                 Traceback (most recent call last)",
      "Cell \u001b[1;32mIn[7], line 1\u001b[0m\n\u001b[1;32m----> 1\u001b[0m \u001b[43mget_company_info\u001b[49m\u001b[43m(\u001b[49m\u001b[38;5;124;43m\"\u001b[39;49m\u001b[38;5;124;43mamzn\u001b[39;49m\u001b[38;5;124;43m\"\u001b[39;49m\u001b[43m)\u001b[49m\n",
      "File \u001b[1;32m~\\anaconda3\\envs\\dev\\lib\\site-packages\\yahoo_fin\\stock_info.py:1015\u001b[0m, in \u001b[0;36mget_company_info\u001b[1;34m(ticker)\u001b[0m\n\u001b[0;32m   1013\u001b[0m site \u001b[38;5;241m=\u001b[39m \u001b[38;5;124mf\u001b[39m\u001b[38;5;124m\"\u001b[39m\u001b[38;5;124mhttps://finance.yahoo.com/quote/\u001b[39m\u001b[38;5;132;01m{\u001b[39;00mticker\u001b[38;5;132;01m}\u001b[39;00m\u001b[38;5;124m/profile?p=\u001b[39m\u001b[38;5;132;01m{\u001b[39;00mticker\u001b[38;5;132;01m}\u001b[39;00m\u001b[38;5;124m\"\u001b[39m\n\u001b[0;32m   1014\u001b[0m json_info \u001b[38;5;241m=\u001b[39m _parse_json(site)\n\u001b[1;32m-> 1015\u001b[0m json_info \u001b[38;5;241m=\u001b[39m \u001b[43mjson_info\u001b[49m\u001b[43m[\u001b[49m\u001b[38;5;124;43m\"\u001b[39;49m\u001b[38;5;124;43massetProfile\u001b[39;49m\u001b[38;5;124;43m\"\u001b[39;49m\u001b[43m]\u001b[49m\n\u001b[0;32m   1016\u001b[0m info_frame \u001b[38;5;241m=\u001b[39m pd\u001b[38;5;241m.\u001b[39mDataFrame\u001b[38;5;241m.\u001b[39mfrom_dict(json_info,\n\u001b[0;32m   1017\u001b[0m                                     orient\u001b[38;5;241m=\u001b[39m\u001b[38;5;124m\"\u001b[39m\u001b[38;5;124mindex\u001b[39m\u001b[38;5;124m\"\u001b[39m,\n\u001b[0;32m   1018\u001b[0m                                     columns\u001b[38;5;241m=\u001b[39m[\u001b[38;5;124m\"\u001b[39m\u001b[38;5;124mValue\u001b[39m\u001b[38;5;124m\"\u001b[39m])\n\u001b[0;32m   1019\u001b[0m info_frame \u001b[38;5;241m=\u001b[39m info_frame\u001b[38;5;241m.\u001b[39mdrop(\u001b[38;5;124m\"\u001b[39m\u001b[38;5;124mcompanyOfficers\u001b[39m\u001b[38;5;124m\"\u001b[39m, axis\u001b[38;5;241m=\u001b[39m\u001b[38;5;124m\"\u001b[39m\u001b[38;5;124mindex\u001b[39m\u001b[38;5;124m\"\u001b[39m)\n",
      "\u001b[1;31mTypeError\u001b[0m: string indices must be integers"
     ]
    }
   ],
   "source": [
    "get_company_info(\"amzn\")"
   ]
  },
  {
   "cell_type": "code",
   "execution_count": 10,
   "id": "9ab8aaf9",
   "metadata": {},
   "outputs": [
    {
     "data": {
      "text/plain": [
       "{'1y Target Est': 172.86,\n",
       " '52 Week Range': '124.17 - 198.23',\n",
       " 'Ask': '194.01 x 800',\n",
       " 'Avg. Volume': 57616434.0,\n",
       " 'Beta (5Y Monthly)': 1.29,\n",
       " 'Bid': '194.00 x 1300',\n",
       " \"Day's Range\": '192.91 - 194.24',\n",
       " 'EPS (TTM)': 5.89,\n",
       " 'Earnings Date': 'Aug 03, 2023',\n",
       " 'Ex-Dividend Date': 'May 12, 2023',\n",
       " 'Forward Dividend & Yield': '0.96 (0.50%)',\n",
       " 'Market Cap': '3.053T',\n",
       " 'Open': 193.33,\n",
       " 'PE Ratio (TTM)': 32.96,\n",
       " 'Previous Close': 192.75,\n",
       " 'Quote Price': 194.13360595703125,\n",
       " 'Volume': 19351679.0}"
      ]
     },
     "execution_count": 10,
     "metadata": {},
     "output_type": "execute_result"
    }
   ],
   "source": [
    "get_quote_table(\"aapl\")"
   ]
  },
  {
   "cell_type": "code",
   "execution_count": 1,
   "id": "2398f078",
   "metadata": {},
   "outputs": [],
   "source": [
    "import yfinance as yf\n"
   ]
  },
  {
   "cell_type": "code",
   "execution_count": 2,
   "id": "06a78846",
   "metadata": {},
   "outputs": [
    {
     "data": {
      "text/plain": [
       "'Arrowhead Pharmaceuticals, Inc.'"
      ]
     },
     "execution_count": 2,
     "metadata": {},
     "output_type": "execute_result"
    }
   ],
   "source": [
    "ticker = yf.Ticker('ARWR')\n",
    "ticker.info['longName']"
   ]
  },
  {
   "cell_type": "code",
   "execution_count": null,
   "id": "05daab9d",
   "metadata": {},
   "outputs": [],
   "source": []
  }
 ],
 "metadata": {
  "kernelspec": {
   "display_name": "Python 3 (ipykernel)",
   "language": "python",
   "name": "python3"
  },
  "language_info": {
   "codemirror_mode": {
    "name": "ipython",
    "version": 3
   },
   "file_extension": ".py",
   "mimetype": "text/x-python",
   "name": "python",
   "nbconvert_exporter": "python",
   "pygments_lexer": "ipython3",
   "version": "3.10.11"
  }
 },
 "nbformat": 4,
 "nbformat_minor": 5
}
